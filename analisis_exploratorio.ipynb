{
 "cells": [
  {
   "cell_type": "markdown",
   "metadata": {},
   "source": [
    "# TP1: análisis exploratorio\n",
    "\n",
    "## Definiciones de funciones generales, imports, y carga de datos"
   ]
  },
  {
   "cell_type": "code",
   "execution_count": null,
   "metadata": {},
   "outputs": [],
   "source": [
    "# magic function para hacer que los graficos de matplotlib se renderizen en el notebook.\n",
    "\n",
    "import datetime as datetime\n",
    "import pandas as pd\n",
    "import numpy as np\n",
    "import sys\n",
    "import matplotlib.pyplot as plt\n",
    "import seaborn as sns\n",
    "from functools import partial\n",
    "\n",
    "plt.style.use('bmh') # haciendo los graficos un poco mas bonitos xD\n",
    "plt.rcParams['figure.figsize'] = (18, 8)\n",
    "%matplotlib inline"
   ]
  },
  {
   "cell_type": "code",
   "execution_count": null,
   "metadata": {},
   "outputs": [],
   "source": [
    "def get_funcname():\n",
    "    return sys._getframe().f_code.co_name\n",
    "def show_and_save_plot(title,xlabel='', ylabel='', **kwargs):\n",
    "    plt.title(title)\n",
    "    plt.xlabel(xlabel)\n",
    "    plt.ylabel(ylabel)\n",
    "    plt.savefig(\"./imgs/\" + title + '.svg', **kwargs)\n",
    "    plt.show()\n",
    "    plt.close()"
   ]
  },
  {
   "cell_type": "code",
   "execution_count": null,
   "metadata": {},
   "outputs": [],
   "source": [
    "raw_eventos = pd.read_csv('data/events.csv')"
   ]
  },
  {
   "cell_type": "markdown",
   "metadata": {},
   "source": [
    "## Preprocesamiento"
   ]
  },
  {
   "cell_type": "code",
   "execution_count": null,
   "metadata": {},
   "outputs": [],
   "source": [
    "brands = {'iphone':'apple', 'samsung':'samsung', 'lg':'lg', 'motorola':'motorola', \\\n",
    "            'sony':'sony', 'asus':'asus', 'quantum':'quantum', 'ipad':'apple', 'lenovo':'lenovo', \\\n",
    "             'blackberry' : 'blackberry'}\n",
    "def findBrand(x):\n",
    "    if(pd.isna(x)):\n",
    "        return np.nan\n",
    "    for key,value in brands.items():\n",
    "        if(key in x.lower()):\n",
    "            return value\n",
    "    return np.nan\n",
    "    "
   ]
  },
  {
   "cell_type": "code",
   "execution_count": null,
   "metadata": {},
   "outputs": [],
   "source": [
    "raw_eventos['brand'] = raw_eventos['model'].map(findBrand)"
   ]
  },
  {
   "cell_type": "markdown",
   "metadata": {},
   "source": [
    "# Funciones de limpieza de datos/creacion de features"
   ]
  },
  {
   "cell_type": "code",
   "execution_count": null,
   "metadata": {},
   "outputs": [],
   "source": [
    "raw_eventos.timestamp = raw_eventos.timestamp.map(pd.Timestamp)\n",
    "raw_eventos.time = raw_eventos.timestamp.map(lambda it: it.hour)\n",
    "def megapixel_count(resolution):\n",
    "    if type(resolution) != str: return np.NaN\n",
    "    x_pixels, y_pixels = map(int, resolution.split(\"x\"))\n",
    "    return x_pixels*y_pixels/1000000\n",
    "raw_eventos.screen_megapixels = raw_eventos.screen_resolution.map(megapixel_count)"
   ]
  },
  {
   "cell_type": "markdown",
   "metadata": {},
   "source": [
    "# Introduccion a los datos"
   ]
  },
  {
   "cell_type": "code",
   "execution_count": null,
   "metadata": {},
   "outputs": [],
   "source": [
    "raw_eventos.event.value_counts().plot(kind='barh',logx=True)\n",
    "show_and_save_plot('Cantidad de tipos de eventos','Cantidad por evento', 'Tipo de evento')"
   ]
  },
  {
   "cell_type": "code",
   "execution_count": null,
   "metadata": {},
   "outputs": [],
   "source": [
    "# Voy a intentar ver que proporcion de cada columna es nula\n",
    "# Esto debería tener relación con que tipos de eventos tienen que atributos.\n",
    "# Probablemente esta informacion salga de una db con un mapeo single_table\n",
    "def myIsNa(serie):\n",
    "    return serie.isna().sum() / len(serie.isna())\n",
    "serie = pd.Series([1, 2, 3, np.NaN])\n",
    "serie.isna().count()\n",
    "grouped = raw_eventos.groupby('event').agg(myIsNa)\n",
    "sns.heatmap(grouped)\n",
    "# TODO: sacar la barra de color, confunde.\n",
    "show_and_save_plot('Proporcion de columnas nulas por evento', pad_inches=0.3, bbox_inches='tight',\n",
    "                   xlabel='Columna', ylabel='Evento')\n",
    "del grouped"
   ]
  },
  {
   "cell_type": "markdown",
   "metadata": {},
   "source": [
    "# Exploracion de los distintos tipos de eventos por separado\n",
    "\n",
    "## Eventos de busqueda"
   ]
  },
  {
   "cell_type": "code",
   "execution_count": null,
   "metadata": {},
   "outputs": [],
   "source": [
    "# Podemos ver que la columna 'sku', se corresponde con los tipos de evento relacionados a un solo dispositivo\n",
    "# Por otro lado, la columna 'skus', tiene un string que se corresponde con un listado de dispositivos.\n",
    "busquedas = raw_eventos[raw_eventos.event == 'searched products'][['skus','timestamp','person','search_term']]\n",
    "# verifico que para el mismo usuario y search_term hay resultados distintos, para validar lo anterior\n",
    "busquedas[(busquedas.search_term.isna()) & (busquedas.person == '00aaa92e')]\n",
    "del busquedas"
   ]
  },
  {
   "cell_type": "markdown",
   "metadata": {},
   "source": [
    "#### Motores de busqueda mas usados"
   ]
  },
  {
   "cell_type": "code",
   "execution_count": null,
   "metadata": {},
   "outputs": [],
   "source": [
    "raw_eventos['search_engine'].dropna().unique()"
   ]
  },
  {
   "cell_type": "code",
   "execution_count": null,
   "metadata": {},
   "outputs": [],
   "source": [
    "raw_eventos['search_engine'].dropna().value_counts().plot(kind = 'bar')\n",
    "show_and_save_plot('Motores de busqueda', xlabel='Motores', ylabel='Cantidad de busquedas')"
   ]
  },
  {
   "cell_type": "markdown",
   "metadata": {},
   "source": [
    "#### Veo cuales son los modelos que mas se compraron a traves de Google."
   ]
  },
  {
   "cell_type": "code",
   "execution_count": null,
   "metadata": {},
   "outputs": [],
   "source": [
    "# LOL, Todo: join by id. \n",
    "raw_eventos[raw_eventos['event'] == 'conversion']['search_engine'].dropna().head()"
   ]
  },
  {
   "cell_type": "markdown",
   "metadata": {},
   "source": [
    "## Eventos de visited_site"
   ]
  },
  {
   "cell_type": "code",
   "execution_count": null,
   "metadata": {},
   "outputs": [],
   "source": [
    "raw_eventos.channel.value_counts().plot(kind='barh',logx=True)\n",
    "show_and_save_plot('Cantidad de tipos de canales', xlabel='Cantidad por canal',\n",
    "                    ylabel='Tipo de canal')"
   ]
  },
  {
   "cell_type": "code",
   "execution_count": null,
   "metadata": {},
   "outputs": [],
   "source": [
    "raw_eventos.device_type.value_counts().plot(kind='barh',logx=True)\n",
    "show_and_save_plot('Cantidad de tipos de dispositivos', xlabel='Cantidad por tipo de dispositivo', ylabel='Tipo de dispositivo')"
   ]
  },
  {
   "cell_type": "code",
   "execution_count": null,
   "metadata": {},
   "outputs": [],
   "source": [
    "# Vemos que las resoluciones de pantalla son en general bajas, lo que da la idea\n",
    "# de que la aplicación es usada por personas de bajo poder adquisitivo.\n",
    "raw_eventos.screen_resolution.value_counts()[0:15].plot(kind='barh',logx=True)\n",
    "show_and_save_plot('Cantidad por tipos de resoluciones', xlabel='Cantidad por tipo de resolución', \n",
    "                   ylabel='Tipo de resolución')"
   ]
  },
  {
   "cell_type": "markdown",
   "metadata": {},
   "source": [
    "# Exploracion de todos los eventos en conjunto"
   ]
  },
  {
   "cell_type": "code",
   "execution_count": null,
   "metadata": {},
   "outputs": [],
   "source": [
    "# Nos damos una idea de qué resoluciones de pantalla tienen los usuarios\n",
    "raw_eventos.screen_megapixels.hist(bins=[x*0.3 for x in range(10)])\n",
    "show_and_save_plot('Distribución de cantidad de pixeles de las pantallas', xlabel='Megapixeles',\n",
    "                   ylabel='Cantidad de usuarios')"
   ]
  },
  {
   "cell_type": "code",
   "execution_count": null,
   "metadata": {},
   "outputs": [],
   "source": [
    "raw_eventos.timestamp.hist()\n",
    "show_and_save_plot(\"distribución de eventos en el tiempo\", xlabel='Fecha',\n",
    "                   ylabel='Cantidad acumulada de eventos')"
   ]
  },
  {
   "cell_type": "code",
   "execution_count": null,
   "metadata": {},
   "outputs": [],
   "source": [
    "# Cuantos 'skus' distintos hay\n",
    "print( \"hay {} dispositivos y {} dispositivos distintos\".format(len(raw_eventos.skus.dropna().values), len(raw_eventos.skus.dropna().unique())))"
   ]
  },
  {
   "cell_type": "code",
   "execution_count": null,
   "metadata": {},
   "outputs": [],
   "source": [
    "# Hora del dia en la que se producen los eventos:\n",
    "raw_eventos.time.hist(bins=24)\n",
    "show_and_save_plot('Distribucion de eventos en las horas del dia', xlabel='Hora del dia',\n",
    "                   ylabel='Cantidad de eventos')"
   ]
  },
  {
   "cell_type": "markdown",
   "metadata": {},
   "source": [
    "## Relación entre eventos de un mismo usuario\n",
    "Primero voy a ver cuantos eventos hay por cada usuario ¿es usual que haya cientos por cada uno? ¿Solo un par?"
   ]
  },
  {
   "cell_type": "code",
   "execution_count": null,
   "metadata": {},
   "outputs": [],
   "source": [
    "raw_eventos.person.value_counts().hist(log=True, bins=[i*10 for i in range(100)])\n",
    "show_and_save_plot('cantidad de eventos por persona', xlabel='cantidad de usuarios',\n",
    "                   ylabel='Cantidad de eventos')"
   ]
  },
  {
   "cell_type": "code",
   "execution_count": null,
   "metadata": {},
   "outputs": [],
   "source": [
    "# TODO: plotear qué tanto tiempo pasan los usuarios en el sitio\n",
    "persons = raw_eventos.groupby('person').agg({'timestamp':['min','max','count']})\n",
    "persons['time_spent'] = persons['timestamp','max'] - persons['timestamp','min']\n",
    "persons.time_spent = persons.time_spent.map(lambda it: it.total_seconds()/3600)\n",
    "# Si muestro los outliers usa mucho espacio para los mismos, arriba del boxplot\n",
    "persons.time_spent.plot(kind='box', showfliers=False)"
   ]
  },
  {
   "cell_type": "code",
   "execution_count": null,
   "metadata": {},
   "outputs": [],
   "source": [
    "persons.time_spent.describe()"
   ]
  },
  {
   "cell_type": "code",
   "execution_count": null,
   "metadata": {},
   "outputs": [],
   "source": [
    "def event_grouper(event_list):\n",
    "    result = []\n",
    "    for event_name in event_list:\n",
    "        def event_count_by_type(event_type, serie):\n",
    "            return int(serie[serie == event_type].count())\n",
    "        function = partial(event_count_by_type, event_name)\n",
    "        function.__name__ = event_name\n",
    "        result.append(function)\n",
    "    return result\n",
    "    "
   ]
  },
  {
   "cell_type": "markdown",
   "metadata": {},
   "source": [
    "## Features de cada modelo"
   ]
  },
  {
   "cell_type": "code",
   "execution_count": null,
   "metadata": {},
   "outputs": [],
   "source": [
    "def get_models_data(raw_events):\n",
    "    def event_count_by_type(event_type, serie):\n",
    "        return int(serie[serie == event_type].count())\n",
    "    def viewed_product(it):\n",
    "        return event_count_by_type('viewed product',it)\n",
    "    def checkout(it):\n",
    "        return event_count_by_type('checkout',it)\n",
    "    def conversion(it):\n",
    "        return event_count_by_type('conversion',it)\n",
    "    def lead(it):\n",
    "        return event_count_by_type('lead',it)\n",
    "    event_functions = event_grouper([ 'viewed product', 'checkout', 'conversion', 'lead'])\n",
    "    models = raw_events\\\n",
    "        .groupby('model')\\\n",
    "        .agg({'timestamp':['count','min','max'],'event':event_functions})\n",
    "    models['cantidad_eventos'] = models['timestamp','count']\n",
    "    models = models.drop(labels=[('timestamp','count')],axis=1)\n",
    "    models = models[models.cantidad_eventos > 100]\n",
    "    for i in ['checkout', 'conversion','lead','viewed product']:\n",
    "        models['event',i] = models['event',i]/models['cantidad_eventos']\n",
    "    return models"
   ]
  },
  {
   "cell_type": "code",
   "execution_count": null,
   "metadata": {},
   "outputs": [],
   "source": [
    "models = get_models_data(raw_eventos).sort_values('cantidad_eventos', ascending=False)\n",
    "models.event.head(8).plot(kind='barh',logx=True, stacked=False)\n",
    "show_and_save_plot('Distribucion de eventos en los modelos mas populares', xlabel='Distribucion', ylabel='Modelo')"
   ]
  },
  {
   "cell_type": "markdown",
   "metadata": {},
   "source": [
    "Modelos de telefono mas vendidos en proporcion a los eventos totales\n",
    "\n",
    "Vale la pena aclarar que son modelos distintos a los mas populares"
   ]
  },
  {
   "cell_type": "code",
   "execution_count": null,
   "metadata": {},
   "outputs": [],
   "source": [
    "models = models.sort_values([('event','conversion')], ascending=False)\n",
    "models.event.head(8).plot(kind='barh',logx=True, stacked=False)\n",
    "plt.xlabel('Distribucion')\n",
    "plt.ylabel('Modelo')\n",
    "show_and_save_plot('Distribucion de eventos en los modelos con mejor conversion rate')"
   ]
  },
  {
   "cell_type": "code",
   "execution_count": null,
   "metadata": {},
   "outputs": [],
   "source": [
    "models = models.sort_values([('event','lead')], ascending=False)\n",
    "models.event.head(8).plot(kind='barh',logx=True, stacked=False)\n",
    "plt.xlabel('Distribución')\n",
    "plt.ylabel('Modelo')\n",
    "show_and_save_plot('Distribucion de eventos en los modelos mas reservados')"
   ]
  },
  {
   "cell_type": "markdown",
   "metadata": {},
   "source": [
    "## Evaluo cuales son los colores mas vendidos."
   ]
  },
  {
   "cell_type": "code",
   "execution_count": null,
   "metadata": {},
   "outputs": [],
   "source": [
    "colors_count = raw_eventos[raw_eventos.event == 'conversion'].color.dropna().value_counts()"
   ]
  },
  {
   "cell_type": "code",
   "execution_count": null,
   "metadata": {},
   "outputs": [],
   "source": [
    "plt.xlabel('Cantidad')\n",
    "plt.ylabel('Color')\n",
    "colors_count.plot(kind = 'barh')"
   ]
  }
 ],
 "metadata": {
  "kernelspec": {
   "display_name": "Python 3",
   "language": "python",
   "name": "python3"
  },
  "language_info": {
   "codemirror_mode": {
    "name": "ipython",
    "version": 3
   },
   "file_extension": ".py",
   "mimetype": "text/x-python",
   "name": "python",
   "nbconvert_exporter": "python",
   "pygments_lexer": "ipython3",
   "version": "3.7.0"
  }
 },
 "nbformat": 4,
 "nbformat_minor": 2
}
