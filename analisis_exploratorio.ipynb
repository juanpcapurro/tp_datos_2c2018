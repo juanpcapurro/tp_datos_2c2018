{
 "cells": [
  {
   "cell_type": "markdown",
   "metadata": {},
   "source": [
    "# TP1: análisis exploratorio\n",
    "\n",
    "## Definiciones de funciones generales, imports, y carga de datos"
   ]
  },
  {
   "cell_type": "code",
   "execution_count": null,
   "metadata": {},
   "outputs": [],
   "source": [
    "# magic function para hacer que los graficos de matplotlib se renderizen en el notebook.\n",
    "\n",
    "import datetime as datetime\n",
    "import pandas as pd\n",
    "import numpy as np\n",
    "import matplotlib.pyplot as plt\n",
    "import seaborn as sns\n",
    "from functools import partial\n",
    "\n",
    "from IPython.core.display import display, HTML\n",
    "display(HTML(\"<style>.container { width:100% !important; }</style>\"))\n",
    "\n",
    "plt.style.use('bmh') # haciendo los graficos un poco mas bonitos xD\n",
    "plt.rcParams['figure.figsize'] = (18, 10)\n",
    "%matplotlib inline"
   ]
  },
  {
   "cell_type": "code",
   "execution_count": null,
   "metadata": {},
   "outputs": [],
   "source": [
    "def show_and_save_plot(title,xlabel='', ylabel='', **kwargs):\n",
    "    plt.title(title)\n",
    "    plt.xlabel(xlabel)\n",
    "    plt.ylabel(ylabel)\n",
    "    plt.savefig(\"./imgs/\" + title + '.svg', pad_inches=0.3, bbox_inches='tight',**kwargs)\n",
    "    plt.show()\n",
    "    plt.close()"
   ]
  },
  {
   "cell_type": "code",
   "execution_count": null,
   "metadata": {},
   "outputs": [],
   "source": [
    "# https://stackoverflow.com/a/50558529\\n,\n",
    "def __my_flatten_cols(self, how=\"_\".join, reset_index=True):\n",
    "    how = (lambda iter: list(iter)[-1]) if how == \"last\" else how\n",
    "    self.columns = [how(filter(None, map(str, levels))) for levels in self.columns.values] \\\n",
    "                    if isinstance(self.columns, pd.MultiIndex) else self.columns\n",
    "    return self.reset_index() if reset_index else self\n",
    "pd.DataFrame.my_flatten_cols = __my_flatten_cols"
   ]
  },
  {
   "cell_type": "code",
   "execution_count": null,
   "metadata": {},
   "outputs": [],
   "source": [
    "def event_grouper(event_list):\n",
    "    result = []\n",
    "    for event_name in event_list:\n",
    "        def event_count_by_type(event_type, serie):\n",
    "            return int(serie[serie == event_type].count())\n",
    "        function = partial(event_count_by_type, event_name)\n",
    "        function.__name__ = event_name\n",
    "        result.append(function)\n",
    "    return result"
   ]
  },
  {
   "cell_type": "code",
   "execution_count": null,
   "metadata": {},
   "outputs": [],
   "source": [
    "raw_events = pd.read_csv('data/events.csv').sort_values('timestamp')"
   ]
  },
  {
   "cell_type": "markdown",
   "metadata": {},
   "source": [
    "## Preprocesamiento"
   ]
  },
  {
   "cell_type": "code",
   "execution_count": null,
   "metadata": {},
   "outputs": [],
   "source": [
    "brands = {'iphone':'apple', 'samsung':'samsung', 'lg':'lg', 'motorola':'motorola', \\\n",
    "            'sony':'sony', 'asus':'asus', 'quantum':'quantum', 'ipad':'apple', 'lenovo':'lenovo', \\\n",
    "             'blackberry' : 'blackberry'}\n",
    "event_values = ['lead', 'conversion','staticpage','checkout','search engine hit', 'generic listing', 'ad campaign hit', 'visited site', 'brand listing', 'viewed product']\n",
    "def findBrand(x):\n",
    "    if(pd.isna(x)):\n",
    "        return np.nan\n",
    "    for key,value in brands.items():\n",
    "        if(key in x.lower()):\n",
    "            return value\n",
    "    return np.nan\n",
    "    "
   ]
  },
  {
   "cell_type": "code",
   "execution_count": null,
   "metadata": {},
   "outputs": [],
   "source": [
    "raw_events['brand'] = raw_events['model'].map(findBrand)"
   ]
  },
  {
   "cell_type": "markdown",
   "metadata": {},
   "source": [
    "# Funciones de limpieza de datos/creacion de features"
   ]
  },
  {
   "cell_type": "code",
   "execution_count": null,
   "metadata": {},
   "outputs": [],
   "source": [
    "raw_events.timestamp = raw_events.timestamp.map(pd.Timestamp)\n",
    "raw_events.time = raw_events.timestamp.map(lambda it: it.hour)\n",
    "def megapixel_count(resolution):\n",
    "    if type(resolution) != str: return np.NaN\n",
    "    x_pixels, y_pixels = map(int, resolution.split(\"x\"))\n",
    "    return x_pixels*y_pixels/1000000\n",
    "raw_events.screen_megapixels = raw_events.screen_resolution.map(megapixel_count)"
   ]
  },
  {
   "cell_type": "markdown",
   "metadata": {},
   "source": [
    "# Introduccion a los datos"
   ]
  },
  {
   "cell_type": "code",
   "execution_count": null,
   "metadata": {},
   "outputs": [],
   "source": [
    "raw_events.event.value_counts().plot(kind='barh',logx=True)\n",
    "show_and_save_plot('Cantidad de tipos de eventos','Cantidad por evento', 'Tipo de evento')"
   ]
  },
  {
   "cell_type": "code",
   "execution_count": null,
   "metadata": {},
   "outputs": [],
   "source": [
    "# Voy a intentar ver que proporcion de cada columna es nula\n",
    "# Esto debería tener relación con que tipos de eventos tienen que atributos.\n",
    "# Probablemente esta informacion salga de una db con un mapeo single_table\n",
    "def myIsNa(serie):\n",
    "    return serie.isna().sum() / len(serie.isna())\n",
    "serie = pd.Series([1, 2, 3, np.NaN])\n",
    "serie.isna().count()\n",
    "grouped = raw_events.groupby('event').agg(myIsNa)\n",
    "sns.heatmap(grouped, cbar=False)\n",
    "show_and_save_plot('Columnas nulas por evento', \n",
    "                   xlabel='Columna', ylabel='Evento')\n",
    "del grouped"
   ]
  },
  {
   "cell_type": "markdown",
   "metadata": {},
   "source": [
    "# Exploracion de los distintos tipos de eventos por separado\n",
    "\n",
    "## Eventos de busqueda"
   ]
  },
  {
   "cell_type": "code",
   "execution_count": null,
   "metadata": {},
   "outputs": [],
   "source": [
    "# Podemos ver que la columna 'sku', se corresponde con los tipos de evento relacionados a un solo dispositivo\n",
    "# Por otro lado, la columna 'skus', tiene un string que se corresponde con un listado de dispositivos.\n",
    "busquedas = raw_events[raw_events.event == 'searched products'][['skus','timestamp','person','search_term']]\n",
    "# verifico que para el mismo usuario y search_term hay resultados distintos, para validar lo anterior\n",
    "busquedas[(busquedas.search_term.isna()) & (busquedas.person == '00aaa92e')]\n",
    "del busquedas"
   ]
  },
  {
   "cell_type": "markdown",
   "metadata": {},
   "source": [
    "#### Motores de busqueda mas usados"
   ]
  },
  {
   "cell_type": "code",
   "execution_count": null,
   "metadata": {},
   "outputs": [],
   "source": [
    "raw_events['search_engine'].dropna().unique()"
   ]
  },
  {
   "cell_type": "code",
   "execution_count": null,
   "metadata": {},
   "outputs": [],
   "source": [
    "raw_events['search_engine'].dropna().value_counts().plot(kind = 'bar')\n",
    "show_and_save_plot('Motores de busqueda', xlabel='Motores', ylabel='Cantidad de busquedas')"
   ]
  },
  {
   "cell_type": "markdown",
   "metadata": {},
   "source": [
    "#### Veo cuales son los modelos que mas se compraron a traves de los distintos motores de busqueda."
   ]
  },
  {
   "cell_type": "code",
   "execution_count": null,
   "metadata": {},
   "outputs": [],
   "source": [
    "search_events = raw_events[raw_events.event == 'ad campaign hit'].drop_duplicates(subset = 'person')\n",
    "convertion_events = raw_events[raw_events.event == 'conversion']"
   ]
  },
  {
   "cell_type": "code",
   "execution_count": null,
   "metadata": {},
   "outputs": [],
   "source": [
    "search_and_buy = convertion_events.merge(search_events, how = 'inner', on = 'person')"
   ]
  },
  {
   "cell_type": "code",
   "execution_count": null,
   "metadata": {},
   "outputs": [],
   "source": [
    "len(search_and_buy)"
   ]
  },
  {
   "cell_type": "code",
   "execution_count": null,
   "metadata": {},
   "outputs": [],
   "source": [
    "search_and_buy['brand_x'].value_counts().plot(kind = 'barh')\n",
    "show_and_save_plot('Marcas mas buscadas y compradas a traves de motor de busqueda' )"
   ]
  },
  {
   "cell_type": "code",
   "execution_count": null,
   "metadata": {},
   "outputs": [],
   "source": [
    "raw_events[raw_events.event == 'conversion']['brand'].value_counts().plot(kind = 'barh')\n",
    "show_and_save_plot('Marcas mas compradas', xlabel='Cantidad compras efectuadas', ylabel='Marcas')"
   ]
  },
  {
   "cell_type": "markdown",
   "metadata": {},
   "source": [
    "## Analisis de eventos por marcas"
   ]
  },
  {
   "cell_type": "code",
   "execution_count": null,
   "metadata": {},
   "outputs": [],
   "source": [
    "brand_conversion = raw_events[raw_events['event'] == 'conversion'][['brand','timestamp']]"
   ]
  },
  {
   "cell_type": "code",
   "execution_count": null,
   "metadata": {},
   "outputs": [],
   "source": [
    "brand_conversion['date'] = brand_conversion['timestamp'].map(lambda x: str(x.year) + \"-\" + str(x.month))"
   ]
  },
  {
   "cell_type": "code",
   "execution_count": null,
   "metadata": {},
   "outputs": [],
   "source": [
    "brand_conversion = brand_conversion.set_index('date')\n",
    "brand_conversion.groupby(level='date').brand.value_counts().unstack('brand').plot.bar(stacked=True, width = 1)\n",
    "show_and_save_plot('Distribucion ventas por mes y marca', xlabel='Fecha', ylabel='Cantidad')"
   ]
  },
  {
   "cell_type": "markdown",
   "metadata": {},
   "source": [
    "## Eventos de visited_site"
   ]
  },
  {
   "cell_type": "code",
   "execution_count": null,
   "metadata": {},
   "outputs": [],
   "source": [
    "raw_events.channel.value_counts().plot(kind='barh',logx=True)\n",
    "show_and_save_plot('Cantidad de tipos de canales', xlabel='Cantidad por canal',\n",
    "                    ylabel='Tipo de canal')"
   ]
  },
  {
   "cell_type": "code",
   "execution_count": null,
   "metadata": {},
   "outputs": [],
   "source": [
    "raw_events.device_type.value_counts().plot(kind='barh',logx=True)\n",
    "show_and_save_plot('Cantidad de tipos de dispositivos', xlabel='Cantidad por tipo de dispositivo', ylabel='Tipo de dispositivo')"
   ]
  },
  {
   "cell_type": "code",
   "execution_count": null,
   "metadata": {},
   "outputs": [],
   "source": [
    "# Vemos que las resoluciones de pantalla son en general bajas, lo que da la idea\n",
    "# de que la aplicación es usada por personas de bajo poder adquisitivo.\n",
    "raw_events.screen_resolution.value_counts()[0:15].plot(kind='barh',logx=True)\n",
    "show_and_save_plot('Cantidad por tipos de resoluciones', xlabel='Cantidad por tipo de resolución', \n",
    "                   ylabel='Tipo de resolución')"
   ]
  },
  {
   "cell_type": "markdown",
   "metadata": {},
   "source": [
    "# Exploracion de todos los eventos en conjunto"
   ]
  },
  {
   "cell_type": "code",
   "execution_count": null,
   "metadata": {},
   "outputs": [],
   "source": [
    "# Nos damos una idea de qué resoluciones de pantalla tienen los usuarios\n",
    "raw_events.screen_megapixels.hist(bins=[x*0.3 for x in range(10)])\n",
    "show_and_save_plot('Distribución de cantidad de pixeles de las pantallas', xlabel='Megapixeles',\n",
    "                   ylabel='Cantidad de usuarios')"
   ]
  },
  {
   "cell_type": "code",
   "execution_count": null,
   "metadata": {},
   "outputs": [],
   "source": [
    "raw_events.timestamp.hist()\n",
    "show_and_save_plot(\"distribución de eventos en el tiempo\", xlabel='Fecha',\n",
    "                   ylabel='Cantidad acumulada de eventos')"
   ]
  },
  {
   "cell_type": "code",
   "execution_count": null,
   "metadata": {},
   "outputs": [],
   "source": [
    "# Cuantos 'skus' distintos hay\n",
    "print( \"hay {} dispositivos y {} dispositivos distintos\".format(len(raw_events.skus.dropna().values), len(raw_events.skus.dropna().unique())))"
   ]
  },
  {
   "cell_type": "code",
   "execution_count": null,
   "metadata": {},
   "outputs": [],
   "source": [
    "# Hora del dia en la que se producen los eventos:\n",
    "raw_events.time.hist(bins=24)\n",
    "show_and_save_plot('Distribucion de eventos en las horas del dia', xlabel='Hora del dia',\n",
    "                   ylabel='Cantidad de eventos')"
   ]
  },
  {
   "cell_type": "markdown",
   "metadata": {},
   "source": [
    "## Relación entre eventos de un mismo usuario\n",
    "Primero voy a ver cuantos eventos hay por cada usuario ¿es usual que haya cientos por cada uno? ¿Solo un par?"
   ]
  },
  {
   "cell_type": "code",
   "execution_count": null,
   "metadata": {},
   "outputs": [],
   "source": [
    "def get_persons_data(raw_events):\n",
    "    def first_event(series):\n",
    "        return series.values[0]\n",
    "    def last_event(series):\n",
    "        return series.values[-1]\n",
    "    persons = raw_events.groupby('person').agg({\n",
    "        'timestamp':['min','max','count'],\n",
    "        'event': event_grouper(event_values) + [first_event, last_event]\n",
    "    })\n",
    "    persons['time_spent'] = persons['timestamp','max'] - persons['timestamp','min']\n",
    "    persons.time_spent = persons.time_spent.map(lambda it: it.total_seconds()/3600)\n",
    "    return persons.my_flatten_cols().set_index('person')\n",
    "def add_first_last_events(persons, raw_events):\n",
    "    def get_last_and_first_events(row):\n",
    "        events = raw_events[(raw_events.person == row.person) & (raw_events.timestamp == row.timestamp_min)]\n",
    "        row['first_events'] = events.event.sort_values().str.cat(sep=', ')\n",
    "        events = raw_events[(raw_events.person == row.person) & (raw_events.timestamp == row.timestamp_max)]\n",
    "        row['last_events'] = events.event.sort_values().str.cat(sep=', ')\n",
    "        return row\n",
    "    return persons.apply(get_last_and_first_events, axis=1)"
   ]
  },
  {
   "cell_type": "code",
   "execution_count": null,
   "metadata": {},
   "outputs": [],
   "source": [
    "persons = get_persons_data(raw_events)"
   ]
  },
  {
   "cell_type": "code",
   "execution_count": null,
   "metadata": {},
   "outputs": [],
   "source": [
    "tempdf = pd.DataFrame()\n",
    "tempdf['everyone'] = persons.timestamp_count\n",
    "tempdf['buyers'] = persons[persons.event_conversion > 0].timestamp_count\n",
    "tempdf.plot.box(showfliers=False)\n",
    "show_and_save_plot('Cantidad de eventos general vs compradores', ylabel='cantidad')"
   ]
  },
  {
   "cell_type": "code",
   "execution_count": null,
   "metadata": {},
   "outputs": [],
   "source": [
    "persons.reset_index()"
   ]
  },
  {
   "cell_type": "code",
   "execution_count": null,
   "metadata": {},
   "outputs": [],
   "source": [
    "add_first_last_events(persons.sample(300).reset_index(), raw_events).first_events.value_counts().plot(kind='barh')\n",
    "show_and_save_plot('Conjunto de primer evento',xlabel='cantidad',ylabel='conjunto de eventos')"
   ]
  },
  {
   "cell_type": "code",
   "execution_count": null,
   "metadata": {},
   "outputs": [],
   "source": [
    "add_first_last_events(persons.sample(300).reset_index(), raw_events).last_events.value_counts().plot(kind='barh')\n",
    "show_and_save_plot('Conjunto de ultimo evento',xlabel='cantidad',ylabel='conjunto de eventos')"
   ]
  },
  {
   "cell_type": "code",
   "execution_count": null,
   "metadata": {},
   "outputs": [],
   "source": [
    "raw_events[raw_events.event == 'visited site']"
   ]
  },
  {
   "cell_type": "code",
   "execution_count": null,
   "metadata": {},
   "outputs": [],
   "source": [
    "# Si muestro los outliers usa mucho espacio para los mismos, arriba del boxplot\n",
    "persons.time_spent.plot(kind='box', showfliers=False)\n",
    "show_and_save_plot('Tiempo que pasan los usuarios en el sitio',xlabel='Distribución', ylabel='Tiempo (horas)')"
   ]
  },
  {
   "cell_type": "code",
   "execution_count": null,
   "metadata": {},
   "outputs": [],
   "source": [
    "raw_events[raw_events.person=='000a54b2'].event.values[-1]"
   ]
  },
  {
   "cell_type": "code",
   "execution_count": null,
   "metadata": {},
   "outputs": [],
   "source": [
    "# NO hay relacion evidente entre el tiempo que se pasa en la plataforma y la cantidad de eventos que tiene. Ni siquiera es lineal.\n",
    "\n",
    "for i in map(lambda it: 'event_'+it, event_values):\n",
    "    persons.plot.scatter('time_spent', i, alpha=0.1)\n",
    "plt.show()"
   ]
  },
  {
   "cell_type": "code",
   "execution_count": null,
   "metadata": {},
   "outputs": [],
   "source": [
    "raw_events[raw_events.person == '000a54b2'].sort_values('timestamp')"
   ]
  },
  {
   "cell_type": "code",
   "execution_count": null,
   "metadata": {},
   "outputs": [],
   "source": [
    "persons.event_first_event.value_counts().plot(kind='barh',logx=True)\n",
    "show_and_save_plot('Distribucion del primer evento de un usuario(log)')"
   ]
  },
  {
   "cell_type": "code",
   "execution_count": null,
   "metadata": {},
   "outputs": [],
   "source": [
    "persons.event_last_event.value_counts().plot(kind='barh', logx=True)\n",
    "show_and_save_plot('Distribucion del ultimo evento de un usuario(log)')"
   ]
  },
  {
   "cell_type": "code",
   "execution_count": null,
   "metadata": {},
   "outputs": [],
   "source": [
    "#En vista de que hay muchos usuarios cuyo ultimo evento es un checkout, me interesa si es el unico\n",
    "print(\"hay \",\n",
    "      (persons.event_last_event == 'checkout').size,\n",
    "      \"usuarios con ultimo evento checkout, y \",\n",
    "      (persons.timestamp_count).size,\n",
    "      \"usuarios con un unico evento\")"
   ]
  },
  {
   "cell_type": "markdown",
   "metadata": {},
   "source": [
    "## Features de cada modelo"
   ]
  },
  {
   "cell_type": "code",
   "execution_count": null,
   "metadata": {},
   "outputs": [],
   "source": [
    "def get_models_data(raw_events):\n",
    "    def event_count_by_type(event_type, serie):\n",
    "        return int(serie[serie == event_type].count())\n",
    "    def viewed_product(it):\n",
    "        return event_count_by_type('viewed product',it)\n",
    "    def checkout(it):\n",
    "        return event_count_by_type('checkout',it)\n",
    "    def conversion(it):\n",
    "        return event_count_by_type('conversion',it)\n",
    "    def lead(it):\n",
    "        return event_count_by_type('lead',it)\n",
    "    event_functions = [ viewed_product, checkout, conversion, lead]\n",
    "    models = raw_events\\\n",
    "        .groupby('model')\\\n",
    "        .agg({'timestamp':['count','min','max'],'event':event_functions})\n",
    "    models['cantidad_eventos'] = models['timestamp','count']\n",
    "    models = models.drop(labels=[('timestamp','count')],axis=1)\n",
    "    models = models[models.cantidad_eventos > 100]\n",
    "    for i in ['checkout', 'conversion','lead','viewed_product']:\n",
    "        models['event',i] = models['event',i]/models['cantidad_eventos']\n",
    "    return models"
   ]
  },
  {
   "cell_type": "code",
   "execution_count": null,
   "metadata": {},
   "outputs": [],
   "source": [
    "models = get_models_data(raw_events).sort_values('cantidad_eventos', ascending=False)\n",
    "models.event.head(8).plot(kind='barh',logx=True, stacked=False)\n",
    "show_and_save_plot('Distribucion de eventos en los modelos mas populares', xlabel='Distribucion', ylabel='Modelo')"
   ]
  },
  {
   "cell_type": "markdown",
   "metadata": {},
   "source": [
    "Modelos de telefono mas vendidos en proporcion a los eventos totales\n",
    "\n",
    "Vale la pena aclarar que son modelos distintos a los mas populares"
   ]
  },
  {
   "cell_type": "code",
   "execution_count": null,
   "metadata": {},
   "outputs": [],
   "source": [
    "models = models.sort_values([('event','conversion')], ascending=False)\n",
    "models.event.head(8).plot(kind='barh',logx=True, stacked=False)\n",
    "plt.xlabel('Distribucion')\n",
    "plt.ylabel('Modelo')\n",
    "show_and_save_plot('Distribucion de eventos en los modelos con mejor conversion rate')"
   ]
  },
  {
   "cell_type": "code",
   "execution_count": null,
   "metadata": {},
   "outputs": [],
   "source": [
    "models = models.sort_values([('event','lead')], ascending=False)\n",
    "models.event.head(8).plot(kind='barh',logx=True, stacked=False)\n",
    "plt.xlabel('Distribución')\n",
    "plt.ylabel('Modelo')\n",
    "show_and_save_plot('Distribucion de eventos en los modelos mas reservados')"
   ]
  },
  {
   "cell_type": "markdown",
   "metadata": {},
   "source": [
    "## Evaluo cuales son los colores mas vendidos."
   ]
  },
  {
   "cell_type": "code",
   "execution_count": null,
   "metadata": {},
   "outputs": [],
   "source": [
    "colors_count = raw_events[raw_events.event == 'conversion'].color.dropna().value_counts()"
   ]
  },
  {
   "cell_type": "code",
   "execution_count": null,
   "metadata": {},
   "outputs": [],
   "source": [
    "plt.xlabel('Cantidad')\n",
    "plt.ylabel('Color')\n",
    "colors_count.plot(kind = 'barh')\n",
    "show_and_save_plot('Colores de telefonos mas vendidos', xlabel='Cantidad', ylabel='Color')"
   ]
  },
  {
   "cell_type": "markdown",
   "metadata": {},
   "source": [
    "## Veo cual es la cantidad de usuarios que ingresaron a la página a través de una campaña publicitaria y terminaron comprando un producto. Para evaluar que tan conveniente es seguir manteniendo cada campaña publicitaria."
   ]
  },
  {
   "cell_type": "code",
   "execution_count": null,
   "metadata": {},
   "outputs": [],
   "source": [
    "campaign = raw_events[~pd.isna(raw_events[\"campaign_source\"])].drop_duplicates('person')"
   ]
  },
  {
   "cell_type": "code",
   "execution_count": null,
   "metadata": {},
   "outputs": [],
   "source": [
    "campaign[\"campaign_source\"].value_counts().plot(kind = 'barh')"
   ]
  },
  {
   "cell_type": "code",
   "execution_count": null,
   "metadata": {},
   "outputs": [],
   "source": [
    "conversions = raw_events[raw_events['event'] == 'conversion'].drop_duplicates('person')"
   ]
  },
  {
   "cell_type": "code",
   "execution_count": null,
   "metadata": {},
   "outputs": [],
   "source": [
    "pd.merge(conversions, campaign, how = 'inner', on = 'person')['campaign_source_y'].value_counts().plot(kind = 'barh')"
   ]
  },
  {
   "cell_type": "code",
   "execution_count": null,
   "metadata": {},
   "outputs": [],
   "source": []
  },
  {
   "cell_type": "code",
   "execution_count": null,
   "metadata": {},
   "outputs": [],
   "source": [
    "raw_events[\"search_term\"].value_counts()[:10]"
   ]
  },
  {
   "cell_type": "markdown",
   "metadata": {},
   "source": [
    "## Veamos como se comportan las ventas de teléfonos durante los dias de semana"
   ]
  },
  {
   "cell_type": "code",
   "execution_count": null,
   "metadata": {},
   "outputs": [],
   "source": [
    "raw_events['day_name'] = raw_events['timestamp'].map(lambda x: x.strftime(\"%A\"))\n"
   ]
  },
  {
   "cell_type": "code",
   "execution_count": null,
   "metadata": {},
   "outputs": [],
   "source": [
    "raw_events['day_number'] = raw_events['timestamp'].map(lambda x: x.weekday())"
   ]
  },
  {
   "cell_type": "code",
   "execution_count": null,
   "metadata": {},
   "outputs": [],
   "source": [
    "# Cambiando 'conversion' por 'visited site' se puede hacer el mismo analisis con la cantidad de visitas.\n",
    "conversion_by_day = raw_events[raw_events.event == 'conversion']['day_name'].value_counts() \n",
    "conversion_by_day = pd.DataFrame(conversion_by_day)"
   ]
  },
  {
   "cell_type": "code",
   "execution_count": null,
   "metadata": {},
   "outputs": [],
   "source": [
    "sorter = ['Monday', 'Tuesday', 'Wednesday', 'Thursday', 'Friday', 'Saturday', 'Sunday']\n",
    "sorterIndex = dict(zip(sorter,range(len(sorter))))"
   ]
  },
  {
   "cell_type": "code",
   "execution_count": null,
   "metadata": {},
   "outputs": [],
   "source": [
    "conversion_by_day['Day_id'] = conversion_by_day.index\n",
    "conversion_by_day['Day_id'] = conversion_by_day['Day_id'].map(sorterIndex)\n",
    "conversion_by_day.sort_values('Day_id', inplace = True)"
   ]
  },
  {
   "cell_type": "code",
   "execution_count": null,
   "metadata": {},
   "outputs": [],
   "source": [
    "f, ax = plt.subplots(1)\n",
    "ax.plot(conversion_by_day.index, conversion_by_day['day_name'], \"-o\")\n",
    "ax.set_ylim(ymin=0)"
   ]
  },
  {
   "cell_type": "code",
   "execution_count": null,
   "metadata": {},
   "outputs": [],
   "source": [
    "from datetime import datetime, timedelta\n",
    "\n",
    "def week_of_month(date):\n",
    "    month = date.month\n",
    "    week = 0\n",
    "    while date.month == month:\n",
    "        week += 1\n",
    "        date -= timedelta(days=7)\n",
    "    return week\n",
    "\n",
    "raw_events['week_of_month'] = raw_events['timestamp'].apply(week_of_month)"
   ]
  },
  {
   "cell_type": "code",
   "execution_count": null,
   "metadata": {},
   "outputs": [],
   "source": [
    "raw_events['day_number'].value_counts()"
   ]
  },
  {
   "cell_type": "code",
   "execution_count": null,
   "metadata": {},
   "outputs": [],
   "source": [
    "conversions = raw_events[raw_events.event == 'conversion']"
   ]
  },
  {
   "cell_type": "code",
   "execution_count": null,
   "metadata": {},
   "outputs": [],
   "source": [
    "group = conversions.groupby(['day_number', 'week_of_month'])\\\n",
    "        .count().reset_index()\\\n",
    "            [['day_number','week_of_month', 'timestamp']]"
   ]
  },
  {
   "cell_type": "code",
   "execution_count": null,
   "metadata": {},
   "outputs": [],
   "source": [
    "pivot = group.pivot(index = 'week_of_month', columns = 'day_number', values = 'timestamp')"
   ]
  },
  {
   "cell_type": "code",
   "execution_count": null,
   "metadata": {},
   "outputs": [],
   "source": [
    "sns.heatmap(pivot)"
   ]
  },
  {
   "cell_type": "code",
   "execution_count": null,
   "metadata": {},
   "outputs": [],
   "source": []
  }
 ],
 "metadata": {
  "kernelspec": {
   "display_name": "Python 3",
   "language": "python",
   "name": "python3"
  },
  "language_info": {
   "codemirror_mode": {
    "name": "ipython",
    "version": 3
   },
   "file_extension": ".py",
   "mimetype": "text/x-python",
   "name": "python",
   "nbconvert_exporter": "python",
   "pygments_lexer": "ipython3",
   "version": "3.7.0"
  }
 },
 "nbformat": 4,
 "nbformat_minor": 2
}
