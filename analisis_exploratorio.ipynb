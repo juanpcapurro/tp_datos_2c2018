{
 "cells": [
  {
   "cell_type": "markdown",
   "metadata": {},
   "source": [
    "# TP1: análisis exploratorio\n",
    "\n",
    "## Definiciones de funciones generales, imports, y carga de datos"
   ]
  },
  {
   "cell_type": "code",
   "execution_count": null,
   "metadata": {},
   "outputs": [],
   "source": [
    "# magic function para hacer que los graficos de matplotlib se renderizen en el notebook.\n",
    "\n",
    "import datetime as datetime\n",
    "import pandas as pd\n",
    "import numpy as np\n",
    "import matplotlib.pyplot as plt\n",
    "import seaborn as sns\n",
    "import geopandas as gp\n",
    "from shapely.geometry import Point\n",
    "from functools import partial\n",
    "\n",
    "plt.style.use('bmh') # haciendo los graficos un poco mas bonitos xD\n",
    "plt.rcParams['figure.figsize'] = (18, 10)\n",
    "%matplotlib inline"
   ]
  },
  {
   "cell_type": "code",
   "execution_count": null,
   "metadata": {},
   "outputs": [],
   "source": [
    "def show_and_save_plot(title,xlabel='', ylabel='', **kwargs):\n",
    "    plt.title(title)\n",
    "    plt.xlabel(xlabel)\n",
    "    plt.ylabel(ylabel)\n",
    "    plt.savefig(\"./imgs/\" + title + '.svg', pad_inches=0.3, bbox_inches='tight',**kwargs)\n",
    "    plt.show()\n",
    "    plt.close()"
   ]
  },
  {
   "cell_type": "code",
   "execution_count": null,
   "metadata": {},
   "outputs": [],
   "source": [
    "# https://stackoverflow.com/a/50558529\\n,\n",
    "def __my_flatten_cols(self, how=\"_\".join, reset_index=True):\n",
    "    how = (lambda iter: list(iter)[-1]) if how == \"last\" else how\n",
    "    self.columns = [how(filter(None, map(str, levels))) for levels in self.columns.values] \\\n",
    "                    if isinstance(self.columns, pd.MultiIndex) else self.columns\n",
    "    return self.reset_index() if reset_index else self\n",
    "pd.DataFrame.my_flatten_cols = __my_flatten_cols"
   ]
  },
  {
   "cell_type": "code",
   "execution_count": null,
   "metadata": {},
   "outputs": [],
   "source": [
    "def event_grouper(event_list):\n",
    "    result = []\n",
    "    for event_name in event_list:\n",
    "        def event_count_by_type(event_type, serie):\n",
    "            return int(serie[serie == event_type].count())\n",
    "        function = partial(event_count_by_type, event_name)\n",
    "        function.__name__ = event_name\n",
    "        result.append(function)\n",
    "    return result"
   ]
  },
  {
   "cell_type": "markdown",
   "metadata": {},
   "source": [
    "## Preprocesamiento"
   ]
  },
  {
   "cell_type": "code",
   "execution_count": null,
   "metadata": {},
   "outputs": [],
   "source": [
    "brands = {'iphone':'apple', 'samsung':'samsung', 'lg':'lg', 'motorola':'motorola',\n",
    "            'sony':'sony', 'asus':'asus', 'quantum':'quantum', 'ipad':'apple', 'lenovo':'lenovo',\n",
    "             'blackberry' : 'blackberry'}\n",
    "event_values = ['visited site', 'ad campaign hit', 'search engine hit', 'generic listing', 'searched products', 'brand listing', 'staticpage', 'viewed product', 'checkout', 'lead',  'conversion' ]\n",
    "\n",
    "def propagate_visit_data(raw_df):\n",
    "    categories = pd.Categorical(event_values, categories=event_values, ordered=True)\n",
    "    to_return = raw_df\n",
    "    to_return.event = raw_df.event.astype(categories)\n",
    "    to_return = to_return.sort_values(['timestamp', 'event'])\n",
    "    last_visit = {}\n",
    "    # Precondicion: los eventos estan ordenados por \n",
    "    def propagate_visits(row):\n",
    "        if row.event == 'visited site':\n",
    "            last_visit[row.person] = row\n",
    "        elif row.person in last_visit.keys():\n",
    "            for i in ['channel', 'new_vs_returning', 'city', 'region', 'country', 'device_type', 'screen_resolution', 'operating_system_version', 'browser_version']:\n",
    "                row[i] = last_visit[row.person][i]\n",
    "        return row\n",
    "    return to_return.apply(propagate_visits, axis=1)\n",
    "\n",
    "def findBrand(x):\n",
    "    if(pd.isna(x)):\n",
    "        return np.nan\n",
    "    for key,value in brands.items():\n",
    "        if(key in x.lower()):\n",
    "            return value\n",
    "    return np.nan\n",
    "\n",
    "def preprocess_events(raw_df):\n",
    "    to_return = raw_df\n",
    "    to_return.loc[:,'timestamp'] = raw_df.timestamp.map(pd.Timestamp)\n",
    "    to_return.loc[:,'time'] = raw_df.timestamp.map(lambda it: it.hour)\n",
    "    to_return['brand']= raw_df.model.map(findBrand)\n",
    "    return to_return"
   ]
  },
  {
   "cell_type": "code",
   "execution_count": null,
   "metadata": {},
   "outputs": [],
   "source": [
    "raw_events = preprocess_events(pd.read_csv('data/events.csv'))"
   ]
  },
  {
   "cell_type": "code",
   "execution_count": null,
   "metadata": {},
   "outputs": [],
   "source": [
    "# si no esta generado aun el archivo de eventos propagados, correr lo siguiente:\n",
    "#propagated = propagate_visit_data(raw_events)\n",
    "#propagated.to_csv('./data/propagated_events.csv', index_label=False)\n",
    "propagated = preprocess_events(pd.read_csv('./data/propagated_events.csv'))"
   ]
  },
  {
   "cell_type": "markdown",
   "metadata": {},
   "source": [
    "# Funciones de limpieza de datos/creacion de features"
   ]
  },
  {
   "cell_type": "code",
   "execution_count": null,
   "metadata": {},
   "outputs": [],
   "source": [
    "def megapixel_count(resolution):\n",
    "    if type(resolution) != str: return np.NaN\n",
    "    x_pixels, y_pixels = map(int, resolution.split(\"x\"))\n",
    "    return x_pixels*y_pixels/1000000\n",
    "raw_events.screen_megapixels = raw_events.screen_resolution.map(megapixel_count)"
   ]
  },
  {
   "cell_type": "markdown",
   "metadata": {},
   "source": [
    "# Introduccion a los datos"
   ]
  },
  {
   "cell_type": "code",
   "execution_count": null,
   "metadata": {},
   "outputs": [],
   "source": [
    "raw_events.event.value_counts().plot(kind='barh',logx=True)\n",
    "show_and_save_plot('Cantidad de tipos de eventos','Cantidad por evento', 'Tipo de evento')"
   ]
  },
  {
   "cell_type": "code",
   "execution_count": null,
   "metadata": {},
   "outputs": [],
   "source": [
    "# Voy a intentar ver que proporcion de cada columna es nula\n",
    "# Esto debería tener relación con que tipos de eventos tienen que atributos.\n",
    "# Probablemente esta informacion salga de una db con un mapeo single_table\n",
    "def nan_heatmap(df):\n",
    "    def myIsNa(serie):\n",
    "        return serie.isna().sum() / len(serie.isna())\n",
    "    return sns.heatmap(df.groupby('event').agg(myIsNa), cbar=False)\n",
    "# serie = pd.Series([1, 2, 3, np.NaN])\n",
    "# serie.isna().count()\n",
    "# grouped = raw_events.groupby('event').agg(myIsNa)\n",
    "# sns.heatmap(grouped, cbar=False)\n",
    "nan_heatmap(raw_events)\n",
    "show_and_save_plot('Columnas nulas por evento', \n",
    "                   xlabel='Columna', ylabel='Evento')"
   ]
  },
  {
   "cell_type": "markdown",
   "metadata": {},
   "source": [
    "# Exploracion de los distintos tipos de eventos por separado\n",
    "\n",
    "## Eventos de busqueda"
   ]
  },
  {
   "cell_type": "code",
   "execution_count": null,
   "metadata": {},
   "outputs": [],
   "source": [
    "# Podemos ver que la columna 'sku', se corresponde con los tipos de evento relacionados a un solo dispositivo\n",
    "# Por otro lado, la columna 'skus', tiene un string que se corresponde con un listado de dispositivos.\n",
    "busquedas = raw_events[raw_events.event == 'searched products'][['skus','timestamp','person','search_term']]\n",
    "# verifico que para el mismo usuario y search_term hay resultados distintos, para validar lo anterior\n",
    "busquedas[(busquedas.search_term.isna()) & (busquedas.person == '00aaa92e')]\n",
    "del busquedas"
   ]
  },
  {
   "cell_type": "markdown",
   "metadata": {},
   "source": [
    "#### Motores de busqueda mas usados"
   ]
  },
  {
   "cell_type": "code",
   "execution_count": null,
   "metadata": {},
   "outputs": [],
   "source": [
    "#raw_events['search_engine'].dropna().unique()"
   ]
  },
  {
   "cell_type": "code",
   "execution_count": null,
   "metadata": {},
   "outputs": [],
   "source": [
    "raw_events['search_engine'].dropna().value_counts().plot(kind = 'bar')\n",
    "show_and_save_plot('Motores de busqueda', xlabel='Motores', ylabel='Cantidad de busquedas')"
   ]
  },
  {
   "cell_type": "markdown",
   "metadata": {},
   "source": [
    "#### Veo cuales son los modelos que mas se compraron a traves de los distintos motores de busqueda."
   ]
  },
  {
   "cell_type": "code",
   "execution_count": null,
   "metadata": {},
   "outputs": [],
   "source": [
    "search_events = raw_events[raw_events.event == 'ad campaign hit'].drop_duplicates(subset = 'person')\n",
    "convertion_events = raw_events[raw_events.event == 'conversion']"
   ]
  },
  {
   "cell_type": "code",
   "execution_count": null,
   "metadata": {},
   "outputs": [],
   "source": [
    "search_and_buy = convertion_events.merge(search_events, how = 'inner', on = 'person')"
   ]
  },
  {
   "cell_type": "code",
   "execution_count": null,
   "metadata": {},
   "outputs": [],
   "source": [
    "len(search_and_buy)"
   ]
  },
  {
   "cell_type": "code",
   "execution_count": null,
   "metadata": {},
   "outputs": [],
   "source": [
    "search_and_buy['brand_x'].value_counts().plot(kind = 'barh')\n",
    "show_and_save_plot('Marcas mas buscadas y compradas a traves de motor de busqueda' )"
   ]
  },
  {
   "cell_type": "code",
   "execution_count": null,
   "metadata": {},
   "outputs": [],
   "source": [
    "raw_events[raw_events.event == 'conversion']['brand'].value_counts().plot(kind = 'barh')\n",
    "show_and_save_plot('Marcas mas compradas', xlabel='Cantidad compras efectuadas', ylabel='Marcas')"
   ]
  },
  {
   "cell_type": "markdown",
   "metadata": {},
   "source": [
    "## Analisis de eventos por marcas"
   ]
  },
  {
   "cell_type": "code",
   "execution_count": null,
   "metadata": {},
   "outputs": [],
   "source": [
    "brand_conversion = raw_events[raw_events['event'] == 'conversion'][['brand','timestamp']]"
   ]
  },
  {
   "cell_type": "code",
   "execution_count": null,
   "metadata": {},
   "outputs": [],
   "source": [
    "brand_conversion['date'] = brand_conversion['timestamp'].map(lambda x: str(x.year) + \"-\" + str(x.month))"
   ]
  },
  {
   "cell_type": "code",
   "execution_count": null,
   "metadata": {},
   "outputs": [],
   "source": [
    "brand_conversion = brand_conversion.set_index('date')\n",
    "brand_conversion.groupby(level='date').brand.value_counts().unstack('brand').plot.bar(stacked=True, width = 1)\n",
    "show_and_save_plot('Distribucion ventas por mes y marca', xlabel='Fecha', ylabel='Cantidad')"
   ]
  },
  {
   "cell_type": "markdown",
   "metadata": {},
   "source": [
    "## Eventos de visited_site"
   ]
  },
  {
   "cell_type": "code",
   "execution_count": null,
   "metadata": {},
   "outputs": [],
   "source": [
    "raw_events.channel.value_counts().plot(kind='barh',logx=True)\n",
    "show_and_save_plot('Cantidad de tipos de canales', xlabel='Cantidad por canal',\n",
    "                    ylabel='Tipo de canal')"
   ]
  },
  {
   "cell_type": "code",
   "execution_count": null,
   "metadata": {},
   "outputs": [],
   "source": [
    "raw_events.device_type.value_counts().plot(kind='barh',logx=True)\n",
    "show_and_save_plot('Cantidad de tipos de dispositivos', xlabel='Cantidad por tipo de dispositivo', ylabel='Tipo de dispositivo')"
   ]
  },
  {
   "cell_type": "code",
   "execution_count": null,
   "metadata": {},
   "outputs": [],
   "source": [
    "# Vemos que las resoluciones de pantalla son en general bajas, lo que da la idea\n",
    "# de que la aplicación es usada por personas de bajo poder adquisitivo.\n",
    "raw_events.screen_resolution.value_counts()[0:15].plot(kind='barh',logx=True)\n",
    "show_and_save_plot('Cantidad por tipos de resoluciones', xlabel='Cantidad por tipo de resolución', \n",
    "                   ylabel='Tipo de resolución')"
   ]
  },
  {
   "cell_type": "markdown",
   "metadata": {},
   "source": [
    "# Exploracion de todos los eventos en conjunto"
   ]
  },
  {
   "cell_type": "code",
   "execution_count": null,
   "metadata": {},
   "outputs": [],
   "source": [
    "# Nos damos una idea de qué resoluciones de pantalla tienen los usuarios\n",
    "raw_events.screen_megapixels.hist(bins=[x*0.3 for x in range(10)])\n",
    "show_and_save_plot('Distribución de cantidad de pixeles de las pantallas', xlabel='Megapixeles',\n",
    "                   ylabel='Cantidad de usuarios')"
   ]
  },
  {
   "cell_type": "code",
   "execution_count": null,
   "metadata": {},
   "outputs": [],
   "source": [
    "raw_events.timestamp.hist()\n",
    "show_and_save_plot(\"distribución de eventos en el tiempo\", xlabel='Fecha',\n",
    "                   ylabel='Cantidad acumulada de eventos')"
   ]
  },
  {
   "cell_type": "code",
   "execution_count": null,
   "metadata": {},
   "outputs": [],
   "source": [
    "# Cuantos 'skus' distintos hay\n",
    "print( \"hay {} dispositivos y {} dispositivos distintos\".format(len(raw_events.skus.dropna().values), len(raw_events.skus.dropna().unique())))"
   ]
  },
  {
   "cell_type": "code",
   "execution_count": null,
   "metadata": {},
   "outputs": [],
   "source": [
    "# Hora del dia en la que se producen los eventos:\n",
    "raw_events.time.hist(bins=24)\n",
    "show_and_save_plot('Distribucion de eventos en las horas del dia', xlabel='Hora del dia',\n",
    "                   ylabel='Cantidad de eventos')"
   ]
  },
  {
   "cell_type": "markdown",
   "metadata": {},
   "source": [
    "## Relación entre eventos de un mismo usuario\n",
    "Primero voy a ver cuantos eventos hay por cada usuario ¿es usual que haya cientos por cada uno? ¿Solo un par?"
   ]
  },
  {
   "cell_type": "code",
   "execution_count": null,
   "metadata": {},
   "outputs": [],
   "source": [
    "def get_persons_data(raw_events):\n",
    "    def first_event(series):\n",
    "        return series.values[0]\n",
    "    def last_event(series):\n",
    "        return series.values[-1]\n",
    "    persons = raw_events.groupby('person').agg({\n",
    "        'timestamp':['min','max','count'],\n",
    "        'event': event_grouper(event_values)# + [first_event, last_event]\n",
    "    })\n",
    "    persons['time_spent'] = persons['timestamp','max'] - persons['timestamp','min']\n",
    "    persons.time_spent = persons.time_spent.map(lambda it: it.total_seconds()/3600)\n",
    "    return persons.my_flatten_cols().set_index('person')\n",
    "def add_first_last_events(persons, raw_events):\n",
    "    def get_last_and_first_events(row):\n",
    "        events = raw_events[(raw_events.person == row.person) & (raw_events.timestamp == row.timestamp_min)]\n",
    "        row['first_events'] = events.event.sort_values().str.cat(sep=', ')\n",
    "        events = raw_events[(raw_events.person == row.person) & (raw_events.timestamp == row.timestamp_max)]\n",
    "        row['last_events'] = events.event.sort_values().str.cat(sep=', ')\n",
    "        return row\n",
    "    return persons.apply(get_last_and_first_events, axis=1)"
   ]
  },
  {
   "cell_type": "code",
   "execution_count": null,
   "metadata": {},
   "outputs": [],
   "source": [
    "persons = get_persons_data(raw_events)"
   ]
  },
  {
   "cell_type": "code",
   "execution_count": null,
   "metadata": {},
   "outputs": [],
   "source": [
    "tempdf = pd.DataFrame()\n",
    "tempdf['everyone'] = persons.timestamp_count\n",
    "tempdf['buyers'] = persons[persons.event_conversion > 0].timestamp_count\n",
    "tempdf.plot.box(showfliers=False)\n",
    "show_and_save_plot('Cantidad de eventos general vs compradores', ylabel='cantidad')\n",
    "del tempdf"
   ]
  },
  {
   "cell_type": "code",
   "execution_count": null,
   "metadata": {},
   "outputs": [],
   "source": [
    "persons.reset_index()"
   ]
  },
  {
   "cell_type": "code",
   "execution_count": null,
   "metadata": {},
   "outputs": [],
   "source": [
    "#add_first_last_events(persons.sample(300).reset_index(), raw_events).first_events.value_counts().plot(kind='barh')\n",
    "#show_and_save_plot('Conjunto de primer evento',xlabel='cantidad',ylabel='conjunto de eventos')"
   ]
  },
  {
   "cell_type": "code",
   "execution_count": null,
   "metadata": {},
   "outputs": [],
   "source": [
    "#add_first_last_events(persons.sample(300).reset_index(), raw_events).last_events.value_counts().plot(kind='barh')\n",
    "#show_and_save_plot('Conjunto de ultimo evento',xlabel='cantidad',ylabel='conjunto de eventos')"
   ]
  },
  {
   "cell_type": "code",
   "execution_count": null,
   "metadata": {},
   "outputs": [],
   "source": [
    "# Si muestro los outliers usa mucho espacio para los mismos, arriba del boxplot\n",
    "tempdf = pd.DataFrame()\n",
    "tempdf['everyone'] = persons.time_spent\n",
    "tempdf['buyers'] = persons[persons.event_conversion > 0].time_spent\n",
    "tempdf.plot.box(showfliers=False)\n",
    "show_and_save_plot('Tiempo que pasan los usuarios en el sitio',xlabel='Distribución', ylabel='Tiempo (horas)')\n",
    "del tempdf"
   ]
  },
  {
   "cell_type": "code",
   "execution_count": null,
   "metadata": {},
   "outputs": [],
   "source": [
    "normal_persons = persons[(persons.time_spent > persons.time_spent.describe()['25%']) & (persons.time_spent < persons.time_spent.describe()['75%'])]\n",
    "for i in map(lambda it: 'event_'+it, event_values):\n",
    "    normal_persons.plot.scatter('time_spent', i, logx=False, alpha=0.05)\n",
    "    show_and_save_plot('Tiempo pasado en el sitio vs cantidad de '+ i,xlabel='tiempo pasado en el sitio')\n",
    "plt.show()\n",
    "del normal_persons"
   ]
  },
  {
   "cell_type": "code",
   "execution_count": null,
   "metadata": {},
   "outputs": [],
   "source": [
    "raw_events[raw_events.person == '000a54b2'].sort_values('timestamp')"
   ]
  },
  {
   "cell_type": "code",
   "execution_count": null,
   "metadata": {},
   "outputs": [],
   "source": [
    "#persons.event_first_event.value_counts().plot(kind='barh',logx=True)\n",
    "#show_and_save_plot('Distribucion del primer evento de un usuario(log)')"
   ]
  },
  {
   "cell_type": "code",
   "execution_count": null,
   "metadata": {},
   "outputs": [],
   "source": [
    "#persons.event_last_event.value_counts().plot(kind='barh', logx=True)\n",
    "#show_and_save_plot('Distribucion del ultimo evento de un usuario(log)')"
   ]
  },
  {
   "cell_type": "markdown",
   "metadata": {},
   "source": [
    "## Features de cada modelo"
   ]
  },
  {
   "cell_type": "code",
   "execution_count": null,
   "metadata": {},
   "outputs": [],
   "source": [
    "def get_models_data(raw_events):\n",
    "    def event_count_by_type(event_type, serie):\n",
    "        return int(serie[serie == event_type].count())\n",
    "    def viewed_product(it):\n",
    "        return event_count_by_type('viewed product',it)\n",
    "    def checkout(it):\n",
    "        return event_count_by_type('checkout',it)\n",
    "    def conversion(it):\n",
    "        return event_count_by_type('conversion',it)\n",
    "    def lead(it):\n",
    "        return event_count_by_type('lead',it)\n",
    "    event_functions = [ viewed_product, checkout, conversion, lead]\n",
    "    models = raw_events\\\n",
    "        .groupby('model')\\\n",
    "        .agg({'timestamp':['count','min','max'],'event':event_functions})\n",
    "    models['cantidad_eventos'] = models['timestamp','count']\n",
    "    models = models.drop(labels=[('timestamp','count')],axis=1)\n",
    "    models = models[models.cantidad_eventos > 100]\n",
    "    for i in ['checkout', 'conversion','lead','viewed_product']:\n",
    "        models['event',i] = models['event',i]/models['cantidad_eventos']\n",
    "    return models"
   ]
  },
  {
   "cell_type": "code",
   "execution_count": null,
   "metadata": {},
   "outputs": [],
   "source": [
    "models = get_models_data(raw_events).sort_values('cantidad_eventos', ascending=False)\n",
    "models.event.head(8).plot(kind='barh',logx=True, stacked=False)\n",
    "show_and_save_plot('Distribucion de eventos en los modelos mas populares', xlabel='Distribucion', ylabel='Modelo')"
   ]
  },
  {
   "cell_type": "markdown",
   "metadata": {},
   "source": [
    "Modelos de telefono mas vendidos en proporcion a los eventos totales\n",
    "\n",
    "Vale la pena aclarar que son modelos distintos a los mas populares"
   ]
  },
  {
   "cell_type": "code",
   "execution_count": null,
   "metadata": {},
   "outputs": [],
   "source": [
    "models = models.sort_values([('event','conversion')], ascending=False)\n",
    "models.event.head(8).plot(kind='barh',logx=True, stacked=False)\n",
    "plt.xlabel('Distribucion')\n",
    "plt.ylabel('Modelo')\n",
    "show_and_save_plot('Distribucion de eventos en los modelos con mejor conversion rate')"
   ]
  },
  {
   "cell_type": "code",
   "execution_count": null,
   "metadata": {},
   "outputs": [],
   "source": [
    "models = models.sort_values([('event','lead')], ascending=False)\n",
    "models.event.head(8).plot(kind='barh',logx=True, stacked=False)\n",
    "plt.xlabel('Distribución')\n",
    "plt.ylabel('Modelo')\n",
    "show_and_save_plot('Distribucion de eventos en los modelos mas reservados')"
   ]
  },
  {
   "cell_type": "markdown",
   "metadata": {},
   "source": [
    "## Evaluo cuales son los colores mas vendidos."
   ]
  },
  {
   "cell_type": "code",
   "execution_count": null,
   "metadata": {},
   "outputs": [],
   "source": [
    "colors_count = raw_events[raw_events.event == 'conversion'].color.dropna().value_counts()"
   ]
  },
  {
   "cell_type": "code",
   "execution_count": null,
   "metadata": {},
   "outputs": [],
   "source": [
    "plt.xlabel('Cantidad')\n",
    "plt.ylabel('Color')\n",
    "colors_count.plot(kind = 'barh')\n",
    "show_and_save_plot('Colores de telefonos mas vendidos', xlabel='Cantidad', ylabel='Color')"
   ]
  },
  {
   "cell_type": "code",
   "execution_count": null,
   "metadata": {},
   "outputs": [],
   "source": [
    "campaign = raw_events[~pd.isna(raw_events[\"campaign_source\"])].drop_duplicates('person')"
   ]
  },
  {
   "cell_type": "code",
   "execution_count": null,
   "metadata": {},
   "outputs": [],
   "source": [
    "campaign[\"campaign_source\"].value_counts().plot(kind = 'barh',log=True)"
   ]
  },
  {
   "cell_type": "code",
   "execution_count": null,
   "metadata": {},
   "outputs": [],
   "source": [
    "conversions = raw_events[raw_events['event'] == 'conversion'].drop_duplicates('person')"
   ]
  },
  {
   "cell_type": "code",
   "execution_count": null,
   "metadata": {},
   "outputs": [],
   "source": [
    "pd.merge(conversions, campaign, how = 'inner', on = 'person')['campaign_source_y'].value_counts().plot(kind = 'barh')"
   ]
  },
  {
   "cell_type": "code",
   "execution_count": null,
   "metadata": {},
   "outputs": [],
   "source": []
  },
  {
   "cell_type": "code",
   "execution_count": null,
   "metadata": {},
   "outputs": [],
   "source": [
    "raw_events[\"search_term\"].value_counts()[:10]"
   ]
  },
  {
   "cell_type": "markdown",
   "metadata": {},
   "source": [
    "## Veamos como se comportan las ventas de teléfonos durante los dias de semana"
   ]
  },
  {
   "cell_type": "code",
   "execution_count": null,
   "metadata": {},
   "outputs": [],
   "source": [
    "raw_events['day_name'] = raw_events['timestamp'].map(lambda x: x.strftime(\"%A\"))\n"
   ]
  },
  {
   "cell_type": "code",
   "execution_count": null,
   "metadata": {},
   "outputs": [],
   "source": [
    "raw_events['day_name'] = raw_events['timestamp'].map(lambda x: x.strftime(\"%A\"))\n",
    "raw_events['day_number'] = raw_events['timestamp'].map(lambda x: x.weekday())"
   ]
  },
  {
   "cell_type": "code",
   "execution_count": null,
   "metadata": {},
   "outputs": [],
   "source": [
    "# Cambiando 'conversion' por 'visited site' se puede hacer el mismo analisis con la cantidad de visitas.\n",
    "conversion_by_day = raw_events[raw_events.event == 'conversion']['day_name'].value_counts() \n",
    "conversion_by_day = pd.DataFrame(conversion_by_day)"
   ]
  },
  {
   "cell_type": "code",
   "execution_count": null,
   "metadata": {},
   "outputs": [],
   "source": [
    "from datetime import datetime, timedelta\n",
    "\n",
    "def week_of_month(date):\n",
    "def propagate_cordinates(df):\n",
    "    df['Cordinates'] = df[df['Cordinates'] != \"POINT (nan nan)\"]['Cordinates']    month = date.month\n",
    "    week = 0\n",
    "    while date.month == month:\n",
    "        week += 1\n",
    "        date -= timedelta(days=7)\n",
    "    return week\n",
    "\n",
    "raw_events['week_of_month'] = raw_events['timestamp'].apply(week_of_month)"
   ]
  },
  {
   "cell_type": "code",
   "execution_count": null,
   "metadata": {},
   "outputs": [],
   "source": [
    "raw_events['day_number'].value_counts()"
   ]
  },
  {
   "cell_type": "code",
   "execution_count": null,
   "metadata": {},
   "outputs": [],
   "source": [
    "conversions = raw_events[raw_events.event == 'conversion']"
   ]
  },
  {
   "cell_type": "code",
   "execution_count": null,
   "metadata": {},
   "outputs": [],
   "source": [
    "group = conversions.groupby(['day_number', 'week_of_month'])\\\n",
    "        .count().reset_index()\\\n",
    "            [['day_number','week_of_month', 'timestamp']]"
   ]
  },
  {
   "cell_type": "code",
   "execution_count": null,
   "metadata": {},
   "outputs": [],
   "source": [
    "pivot = group.pivot(index = 'week_of_month', columns = 'day_number', values = 'timestamp')"
   ]
  },
  {
   "cell_type": "code",
   "execution_count": null,
   "metadata": {},
   "outputs": [],
   "source": [
    "sns.heatmap(pivot)\n",
    "show_and_save_plot('Ventas por dia del mes y semana',xlabel='Dia de la semana',ylabel='numero de semana')"
   ]
  },
  {
   "cell_type": "markdown",
   "metadata": {},
   "source": [
    "# Propagacion de datos de eventos\n",
    "El evento 'visited site' tiene mucha informacion que queremos aprovechar para poder relacionar otros datos (eg: desde que dispositivo se hacen las conversiones)"
   ]
  },
  {
   "cell_type": "code",
   "execution_count": null,
   "metadata": {},
   "outputs": [],
   "source": [
    "tmp = raw_events.head(5000)\n",
    "categories = pd.Categorical(event_values, ordered=True)\n",
    "tmp.loc[:,'event']= raw_events.event.astype(categories)\n",
    "tmp = tmp.sort_values(['timestamp', 'event'])\n",
    "tmp[tmp.person == '006193b0']"
   ]
  },
  {
   "cell_type": "code",
   "execution_count": null,
   "metadata": {},
   "outputs": [],
   "source": [
    "nan_heatmap(propagated)"
   ]
  },
  {
   "cell_type": "code",
   "execution_count": null,
   "metadata": {},
   "outputs": [],
   "source": [
    "#propagated[(propagated.region.isna())].timestamp.apply(lambda it: it.month).value_counts()\n",
    "#propagated[(propagated.region.isna())].groupby('event').count()\n",
    "propagated.event.isna().value_counts()"
   ]
  },
  {
   "cell_type": "markdown",
   "metadata": {},
   "source": [
    "--------\n",
    "\n",
    "# Muestro en un mapa geografico de Brasil, la distribucion de distintas visitas y compras de productos por zona\n",
    "\n",
    "### Estudio de mercado con respecto a las publicidades"
   ]
  },
  {
   "cell_type": "code",
   "execution_count": null,
   "metadata": {},
   "outputs": [],
   "source": [
    "import re\n",
    "from unicodedata import normalize\n",
    "import string\n",
    "\n",
    "def normalizar_ciudad(row):\n",
    "    aux = re.sub(r\"([^n\\u0300-\\u036f]|n(?!\\u0303(?![\\u0300-\\u036f])))[\\u0300-\\u036f]+\", r\"\\1\", \n",
    "            normalize( \"NFD\", str(row)), 0, re.I)\n",
    "    return normalize('NFC', aux).upper()\n",
    "\n",
    "def to_float(string):\n",
    "    string = str(string).replace(\",\",\".\")\n",
    "    return float(string)\n",
    "\n",
    "\n",
    "normalizado = raw_events.copy()\n",
    "normalizado['city'] = normalizado['city'].apply(normalizar_ciudad)\n",
    "\n",
    "ciudades = pd.read_csv('MunicipiosBrasil.csv')\n",
    "    \n",
    "joined = normalizado.set_index('city').join(ciudades.set_index('MUNICIPIO'))\n",
    "\n",
    "joined['LONGITUDE'] = joined['LONGITUDE'].apply(to_float)\n",
    "joined['LATITUDE'] = joined['LATITUDE'].apply(to_float)\n",
    "\n",
    "joined['Cordinates'] = list(zip(joined.LONGITUDE, joined.LATITUDE))\n",
    "joined['Cordinates'] = joined['Cordinates'].apply(Point)\n",
    "\n",
    "aux1 = joined.copy()\n",
    "aux = joined.copy()\n",
    "nan_point = Point(np.nan,np.nan)\n",
    "aux = aux[~(aux['LATITUDE'] != aux['LATITUDE'])] #me quedo con las coordenadas que no sean nan\n",
    "aux.drop_duplicates('person', keep=\"first\", inplace=True)\n",
    "aux1.drop(columns=['Cordinates'], inplace=True)\n",
    "aux = aux.filter(['person','Cordinates'])\n",
    "joined = pd.merge(aux1,aux, how='left')\n",
    "joined = joined[joined['Cordinates'] == joined['Cordinates']]\n",
    "\n",
    "\n",
    "world = gp.read_file(gp.datasets.get_path('naturalearth_lowres'))\n",
    "mapa_base = world[world['name'] == \"Brazil\"].plot(color='white', edgecolor='black')\n",
    "otros = gp.GeoDataFrame(joined[joined['event'] != 'ad campaign hit'], geometry='Cordinates')\n",
    "otros.plot(ax=mapa_base, color='blue', alpha=0.005)\n",
    "de_apple = gp.GeoDataFrame(joined[(joined['event'] == 'conversion')], geometry='Cordinates')\n",
    "de_apple.plot(ax=mapa_base, color='red', alpha= 0.1)\n",
    "\n",
    "plt.show()"
   ]
  }
 ],
 "metadata": {
  "kernelspec": {
   "display_name": "Python 3",
   "language": "python",
   "name": "python3"
  },
  "language_info": {
   "codemirror_mode": {
    "name": "ipython",
    "version": 3
   },
   "file_extension": ".py",
   "mimetype": "text/x-python",
   "name": "python",
   "nbconvert_exporter": "python",
   "pygments_lexer": "ipython3",
   "version": "3.6.5"
  }
 },
 "nbformat": 4,
 "nbformat_minor": 2
}
