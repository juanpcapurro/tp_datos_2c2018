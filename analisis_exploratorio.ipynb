{
 "cells": [
  {
   "cell_type": "markdown",
   "metadata": {},
   "source": [
    "# TP1: análisis exploratorio\n",
    "\n",
    "## Definiciones de funciones generales, imports, y carga de datos"
   ]
  },
  {
   "cell_type": "code",
   "execution_count": null,
   "metadata": {},
   "outputs": [],
   "source": [
    "# magic function para hacer que los graficos de matplotlib se renderizen en el notebook.\n",
    "\n",
    "import datetime as datetime\n",
    "import pandas as pd\n",
    "import numpy as np\n",
    "import matplotlib.pyplot as plt\n",
    "import seaborn as sns\n",
    "\n",
    "plt.style.use('bmh') # haciendo los graficos un poco mas bonitos xD\n",
    "plt.rcParams['figure.figsize'] = (18, 8)\n",
    "%matplotlib inline"
   ]
  },
  {
   "cell_type": "code",
   "execution_count": null,
   "metadata": {},
   "outputs": [],
   "source": [
    "def show_and_save_plot(title, **kwargs):\n",
    "    plt.title(title)\n",
    "    plt.savefig(\"./imgs/\" + title + '.svg', **kwargs)\n",
    "    plt.show()\n",
    "    plt.close()"
   ]
  },
  {
   "cell_type": "code",
   "execution_count": null,
   "metadata": {},
   "outputs": [],
   "source": [
    "raw_eventos = pd.read_csv('data/events.csv')"
   ]
  },
  {
   "cell_type": "markdown",
   "metadata": {},
   "source": [
    "# Funciones de limpieza de datos/creacion de features"
   ]
  },
  {
   "cell_type": "code",
   "execution_count": null,
   "metadata": {},
   "outputs": [],
   "source": [
    "raw_eventos.timestamp = raw_eventos.timestamp.map(pd.Timestamp)\n",
    "raw_eventos.time = raw_eventos.timestamp.map(lambda it: it.hour)\n",
    "def megapixel_count(resolution):\n",
    "    if type(resolution) != str: return np.NaN\n",
    "    x_pixels, y_pixels = map(int, resolution.split(\"x\"))\n",
    "    return x_pixels*y_pixels/1000000\n",
    "raw_eventos.screen_megapixels = raw_eventos.screen_resolution.map(megapixel_count)"
   ]
  },
  {
   "cell_type": "markdown",
   "metadata": {},
   "source": [
    "# Introduccion a los datos"
   ]
  },
  {
   "cell_type": "code",
   "execution_count": null,
   "metadata": {},
   "outputs": [],
   "source": [
    "raw_eventos.event.value_counts().plot(kind='barh',logx=True)\n",
    "show_and_save_plot('Tipos de eventos')"
   ]
  },
  {
   "cell_type": "code",
   "execution_count": null,
   "metadata": {},
   "outputs": [],
   "source": [
    "# Voy a intentar ver que proporcion de cada columna es nula\n",
    "# Esto debería tener relación con que tipos de eventos tienen que atributos.\n",
    "# Probablemente esta informacion salga de una db con un mapeo single_table\n",
    "def myIsNa(serie):\n",
    "    return serie.isna().sum() / len(serie.isna())\n",
    "serie = pd.Series([1, 2, 3, np.NaN])\n",
    "serie.isna().count()\n",
    "grouped = raw_eventos.groupby('event').agg(myIsNa)\n",
    "sns.heatmap(grouped)\n",
    "# TODO: sacar la barra de color, confunde.\n",
    "show_and_save_plot('Proporcion de columnas nulas por evento', pad_inches=0.3, bbox_inches='tight')\n",
    "del grouped"
   ]
  },
  {
   "cell_type": "markdown",
   "metadata": {},
   "source": [
    "# Exploracion de los distintos tipos de eventos por separado\n",
    "\n",
    "## Eventos de busqueda"
   ]
  },
  {
   "cell_type": "code",
   "execution_count": null,
   "metadata": {},
   "outputs": [],
   "source": [
    "# Podemos ver que la columna 'sku', se corresponde con los tipos de evento relacionados a un solo dispositivo\n",
    "# Por otro lado, la columna 'skus', tiene un string que se corresponde con un listado de dispositivos.\n",
    "busquedas = raw_eventos[raw_eventos.event == 'searched products'][['skus','timestamp','person','search_term']]\n",
    "# verifico que para el mismo usuario y search_term hay resultados distintos, para validar lo anterior\n",
    "busquedas[(busquedas.search_term.isna()) & (busquedas.person == '00aaa92e')]\n",
    "del busquedas"
   ]
  },
  {
   "cell_type": "markdown",
   "metadata": {},
   "source": [
    "## Eventos de visited_site"
   ]
  },
  {
   "cell_type": "code",
   "execution_count": null,
   "metadata": {},
   "outputs": [],
   "source": [
    "raw_eventos.channel.value_counts().plot(kind='barh',logx=True)\n",
    "show_and_save_plot('Tipos de canales')"
   ]
  },
  {
   "cell_type": "code",
   "execution_count": null,
   "metadata": {},
   "outputs": [],
   "source": [
    "raw_eventos.device_type.value_counts().plot(kind='barh',logx=True)\n",
    "show_and_save_plot('Tipos de dispositivos')"
   ]
  },
  {
   "cell_type": "code",
   "execution_count": null,
   "metadata": {},
   "outputs": [],
   "source": [
    "# Vemos que las resoluciones de pantalla son en general bajas, lo que da la idea\n",
    "# de que la aplicación es usada por personas de bajo poder adquisitivo.\n",
    "raw_eventos.screen_resolution.value_counts()[0:15].plot(kind='barh',logx=True)\n",
    "show_and_save_plot('tipos de resoluciones')"
   ]
  },
  {
   "cell_type": "markdown",
   "metadata": {},
   "source": [
    "# Exploracion de todos los eventos en conjunto"
   ]
  },
  {
   "cell_type": "code",
   "execution_count": null,
   "metadata": {},
   "outputs": [],
   "source": [
    "# Nos damos una idea de qué resoluciones de pantalla tienen los usuarios\n",
    "raw_eventos.screen_megapixels.hist(bins=[x*0.3 for x in range(10)])\n",
    "plt.xlabel('Megapixeles')\n",
    "show_and_save_plot('Distribución de cantidad de pixeles de las pantallas')"
   ]
  },
  {
   "cell_type": "code",
   "execution_count": null,
   "metadata": {},
   "outputs": [],
   "source": [
    "raw_eventos.timestamp.hist()\n",
    "show_and_save_plot(\"distribución de eventos en el tiempo\")"
   ]
  },
  {
   "cell_type": "code",
   "execution_count": null,
   "metadata": {},
   "outputs": [],
   "source": [
    "# Cuantos 'skus' distintos hay\n",
    "print( \"hay {} dispositivos y {} dispositivos distintos\".format(len(raw_eventos.skus.dropna().values), len(raw_eventos.skus.unique())))"
   ]
  },
  {
   "cell_type": "code",
   "execution_count": null,
   "metadata": {},
   "outputs": [],
   "source": [
    "# Hora del dia en la que se producen los eventos:\n",
    "raw_eventos.time.hist(bins=24)\n",
    "show_and_save_plot('Distribucion de eventos en las horas del dia')"
   ]
  },
  {
   "cell_type": "markdown",
   "metadata": {},
   "source": [
    "## Relación entre eventos de un mismo usuario\n",
    "Primero voy a ver cuantos eventos hay por cada usuario ¿es usual que haya cientos por cada uno? ¿Solo un par?"
   ]
  },
  {
   "cell_type": "code",
   "execution_count": null,
   "metadata": {},
   "outputs": [],
   "source": [
    "raw_eventos.person.value_counts().hist(log=True, bins=20)\n",
    "show_and_save_plot('cantidad de eventos por persona', xlabel='cantidad de usuarios', ylabel='Cantidad de eventos')"
   ]
  },
  {
   "cell_type": "code",
   "execution_count": null,
   "metadata": {},
   "outputs": [],
   "source": [
    "raw_eventos.event[raw_eventos.event == 'brand listing'].count()"
   ]
  },
  {
   "cell_type": "code",
   "execution_count": null,
   "metadata": {},
   "outputs": [],
   "source": [
    "def event_count_by_type(event_type, serie):\n",
    "    return int(serie[serie == event_type].count())\n",
    "def viewed_product(it):\n",
    "    return event_count_by_type('viewed product',it)\n",
    "def checkout(it):\n",
    "    return event_count_by_type('checkout',it)\n",
    "def conversion(it):\n",
    "    return event_count_by_type('conversion',it)\n",
    "def lead(it):\n",
    "    return event_count_by_type('lead',it)\n",
    "\n",
    "event_functions = [ viewed_product, checkout, conversion, lead]\n",
    "#event_functions = [checkout, conversion, lead]\n",
    "\n",
    "models = raw_eventos\\\n",
    "    .groupby('model')\\\n",
    "    .agg({'timestamp':['count','min','max'],'event':event_functions})\\\n",
    "    .sort_values([('timestamp','count')], ascending=False)"
   ]
  },
  {
   "cell_type": "code",
   "execution_count": null,
   "metadata": {},
   "outputs": [],
   "source": [
    "models.event.head(8).plot(kind='barh',logx=True, stacked=False)\n",
    "show_and_save_plot('Distribucion de eventos en los modelos mas populares', xlabel='cantidad ')"
   ]
  },
  {
   "cell_type": "code",
   "execution_count": null,
   "metadata": {},
   "outputs": [],
   "source": [
    "#stacked bar plot de eventos por modelo"
   ]
  },
  {
   "cell_type": "code",
   "execution_count": null,
   "metadata": {},
   "outputs": [],
   "source": [
    "modelos_telefono = pd.DataFrame()\n",
    "modelos_telefono['modelo'] =  raw_eventos.model.value_counts().index\n",
    "modelos_telefon\n",
    "modelos_telefono['cantidad_eventos'] = raw_eventos.model.value_counts()\n",
    "modelos_telefono"
   ]
  }
 ],
 "metadata": {
  "kernelspec": {
   "display_name": "Python 3",
   "language": "python",
   "name": "python3"
  },
  "language_info": {
   "codemirror_mode": {
    "name": "ipython",
    "version": 3
   },
   "file_extension": ".py",
   "mimetype": "text/x-python",
   "name": "python",
   "nbconvert_exporter": "python",
   "pygments_lexer": "ipython3",
   "version": "3.7.0"
  }
 },
 "nbformat": 4,
 "nbformat_minor": 2
}
