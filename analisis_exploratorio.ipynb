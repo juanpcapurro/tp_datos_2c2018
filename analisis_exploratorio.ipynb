{
 "cells": [
  {
   "cell_type": "markdown",
   "metadata": {},
   "source": [
    "# TP1: análisis exploratorio\n",
    "\n",
    "## Definiciones de funciones generales, imports, y carga de datos"
   ]
  },
  {
   "cell_type": "code",
   "execution_count": null,
   "metadata": {},
   "outputs": [],
   "source": [
    "# magic function para hacer que los graficos de matplotlib se renderizen en el notebook.\n",
    "\n",
    "import datetime as datetime\n",
    "import pandas as pd\n",
    "import numpy as np\n",
    "import matplotlib.pyplot as plt\n",
    "import seaborn as sns\n",
    "from functools import partial\n",
    "\n",
    "plt.style.use('bmh') # haciendo los graficos un poco mas bonitos xD\n",
    "plt.rcParams['figure.figsize'] = (18, 8)\n",
    "%matplotlib inline"
   ]
  },
  {
   "cell_type": "code",
   "execution_count": null,
   "metadata": {},
   "outputs": [],
   "source": [
    "# https://stackoverflow.com/a/50558529\n",
    "def __my_flatten_cols(self, how=\"_\".join, reset_index=True):\n",
    "    how = (lambda iter: list(iter)[-1]) if how == \"last\" else how\n",
    "    self.columns = [how(filter(None, map(str, levels))) for levels in self.columns.values] \\\n",
    "                    if isinstance(self.columns, pd.MultiIndex) else self.columns\n",
    "    return self.reset_index() if reset_index else self\n",
    "pd.DataFrame.my_flatten_cols = __my_flatten_cols"
   ]
  },
  {
   "cell_type": "code",
   "execution_count": null,
   "metadata": {},
   "outputs": [],
   "source": [
    "def show_and_save_plot(title,xlabel='', ylabel='', **kwargs):\n",
    "    plt.title(title)\n",
    "    plt.xlabel(xlabel)\n",
    "    plt.ylabel(ylabel)\n",
    "    plt.savefig(\"./imgs/\" + title + '.svg', pad_inches=0.3, bbox_inches='tight',**kwargs)\n",
    "    plt.show()\n",
    "    plt.close()"
   ]
  },
  {
   "cell_type": "code",
   "execution_count": null,
   "metadata": {},
   "outputs": [],
   "source": [
    "def event_grouper(event_list):\n",
    "    result = []\n",
    "    for event_name in event_list:\n",
    "        def event_count_by_type(event_type, serie):\n",
    "            return int(serie[serie == event_type].count())\n",
    "        function = partial(event_count_by_type, event_name)\n",
    "        function.__name__ = event_name\n",
    "        result.append(function)\n",
    "    return result"
   ]
  },
  {
   "cell_type": "code",
   "execution_count": null,
   "metadata": {},
   "outputs": [],
   "source": [
    "raw_events = pd.read_csv('data/events.csv')"
   ]
  },
  {
   "cell_type": "markdown",
   "metadata": {},
   "source": [
    "## Preprocesamiento"
   ]
  },
  {
   "cell_type": "code",
   "execution_count": null,
   "metadata": {},
   "outputs": [],
   "source": [
    "brands = {'iphone':'apple', 'samsung':'samsung', 'lg':'lg', 'motorola':'motorola', \\\n",
    "            'sony':'sony', 'asus':'asus', 'quantum':'quantum', 'ipad':'apple', 'lenovo':'lenovo', \\\n",
    "             'blackberry' : 'blackberry'}\n",
    "event_values = ['lead', 'conversion','staticpage','checkout','search engine hit', 'generic listing', 'ad campaign hit', 'visited site', 'brand listing', 'viewed product']\n",
    "def findBrand(x):\n",
    "    if(pd.isna(x)):\n",
    "        return np.nan\n",
    "    for key,value in brands.items():\n",
    "        if(key in x.lower()):\n",
    "            return value\n",
    "    return np.nan\n",
    "    "
   ]
  },
  {
   "cell_type": "code",
   "execution_count": null,
   "metadata": {},
   "outputs": [],
   "source": [
    "raw_events['brand'] = raw_events['model'].map(findBrand)"
   ]
  },
  {
   "cell_type": "markdown",
   "metadata": {},
   "source": [
    "# Funciones de limpieza de datos/creacion de features"
   ]
  },
  {
   "cell_type": "code",
   "execution_count": null,
   "metadata": {},
   "outputs": [],
   "source": [
    "raw_events.timestamp = raw_events.timestamp.map(pd.Timestamp)\n",
    "raw_events.time = raw_events.timestamp.map(lambda it: it.hour)\n",
    "def megapixel_count(resolution):\n",
    "    if type(resolution) != str: return np.NaN\n",
    "    x_pixels, y_pixels = map(int, resolution.split(\"x\"))\n",
    "    return x_pixels*y_pixels/1000000\n",
    "raw_events.screen_megapixels = raw_events.screen_resolution.map(megapixel_count)"
   ]
  },
  {
   "cell_type": "markdown",
   "metadata": {},
   "source": [
    "# Introduccion a los datos"
   ]
  },
  {
   "cell_type": "code",
   "execution_count": null,
   "metadata": {},
   "outputs": [],
   "source": [
    "raw_events.event.value_counts().plot(kind='barh',logx=True)\n",
    "show_and_save_plot('Cantidad de tipos de eventos','Cantidad por evento', 'Tipo de evento')"
   ]
  },
  {
   "cell_type": "code",
   "execution_count": null,
   "metadata": {},
   "outputs": [],
   "source": [
    "# Voy a intentar ver que proporcion de cada columna es nula\n",
    "# Esto debería tener relación con que tipos de eventos tienen que atributos.\n",
    "# Probablemente esta informacion salga de una db con un mapeo single_table\n",
    "def myIsNa(serie):\n",
    "    return serie.isna().sum() / len(serie.isna())\n",
    "serie = pd.Series([1, 2, 3, np.NaN])\n",
    "serie.isna().count()\n",
    "grouped = raw_events.groupby('event').agg(myIsNa)\n",
    "sns.heatmap(grouped)\n",
    "# TODO: sacar la barra de color, confunde.\n",
    "show_and_save_plot('Proporcion de columnas nulas por evento', \n",
    "                   xlabel='Columna', ylabel='Evento')\n",
    "del grouped"
   ]
  },
  {
   "cell_type": "markdown",
   "metadata": {},
   "source": [
    "# Exploracion de los distintos tipos de eventos por separado\n",
    "\n",
    "## Eventos de busqueda"
   ]
  },
  {
   "cell_type": "code",
   "execution_count": null,
   "metadata": {},
   "outputs": [],
   "source": [
    "# Podemos ver que la columna 'sku', se corresponde con los tipos de evento relacionados a un solo dispositivo\n",
    "# Por otro lado, la columna 'skus', tiene un string que se corresponde con un listado de dispositivos.\n",
    "busquedas = raw_events[raw_events.event == 'searched products'][['skus','timestamp','person','search_term']]\n",
    "# verifico que para el mismo usuario y search_term hay resultados distintos, para validar lo anterior\n",
    "busquedas[(busquedas.search_term.isna()) & (busquedas.person == '00aaa92e')]\n",
    "del busquedas"
   ]
  },
  {
   "cell_type": "markdown",
   "metadata": {},
   "source": [
    "#### Motores de busqueda mas usados"
   ]
  },
  {
   "cell_type": "code",
   "execution_count": null,
   "metadata": {},
   "outputs": [],
   "source": [
    "raw_events['search_engine'].dropna().unique()"
   ]
  },
  {
   "cell_type": "code",
   "execution_count": null,
   "metadata": {},
   "outputs": [],
   "source": [
    "raw_events['search_engine'].dropna().value_counts().plot(kind = 'bar')\n",
    "show_and_save_plot('Motores de busqueda', xlabel='Motores', ylabel='Cantidad de busquedas')"
   ]
  },
  {
   "cell_type": "markdown",
   "metadata": {},
   "source": [
    "#### Veo cuales son los modelos que mas se compraron a traves de los distintos motores de busqueda."
   ]
  },
  {
   "cell_type": "code",
   "execution_count": null,
   "metadata": {},
   "outputs": [],
   "source": [
    "search_events = raw_events[raw_events.event == 'search engine hit'].drop_duplicates(subset = 'person')\n",
    "convertion_events = raw_events[raw_events.event == 'conversion']"
   ]
  },
  {
   "cell_type": "code",
   "execution_count": null,
   "metadata": {},
   "outputs": [],
   "source": [
    "search_and_buy = convertion_events.merge(search_events, how = 'left', on = 'person')"
   ]
  },
  {
   "cell_type": "code",
   "execution_count": null,
   "metadata": {},
   "outputs": [],
   "source": [
    "len(search_events)"
   ]
  },
  {
   "cell_type": "code",
   "execution_count": null,
   "metadata": {},
   "outputs": [],
   "source": [
    "search_and_buy['brand_x'].value_counts().plot(kind = 'barh')\n",
    "show_and_save_plot('Marcas mas buscadas y compradas a traves de motor de busqueda', xlabel='Cantidad compras efectuadas', ylabel='Marcas')"
   ]
  },
  {
   "cell_type": "code",
   "execution_count": null,
   "metadata": {},
   "outputs": [],
   "source": [
    "search_and_buy['count'] = 1\n",
    "pivot = pd.pivot_table(search_and_buy[['model_x', 'search_engine_y','count']], index= ['model_x', 'search_engine_y'], aggfunc = 'count')\n",
    "pivot = pivot.reset_index().pivot('model_x', 'search_engine_y', 'count')\n",
    "len(pivot)"
   ]
  },
  {
   "cell_type": "code",
   "execution_count": null,
   "metadata": {},
   "outputs": [],
   "source": [
    "sns.heatmap(pivot[:20], cmap = 'YlGnBu')\n",
    "show_and_save_plot('Grilla de modelos buscados y comprados - 1', xlabel='Motores', ylabel='Modelos')"
   ]
  },
  {
   "cell_type": "code",
   "execution_count": null,
   "metadata": {},
   "outputs": [],
   "source": [
    "sns.heatmap(pivot[20:50], cmap = 'YlGnBu')\n",
    "show_and_save_plot('Grilla de modelos buscados y comprados - 2', xlabel='Motores', ylabel='Modelos')"
   ]
  },
  {
   "cell_type": "code",
   "execution_count": null,
   "metadata": {},
   "outputs": [],
   "source": [
    "sns.heatmap(pivot[50:80], cmap = 'YlGnBu')\n",
    "show_and_save_plot('Grilla de modelos buscados y comprados - 3', xlabel='Motores', ylabel='Modelos')"
   ]
  },
  {
   "cell_type": "code",
   "execution_count": null,
   "metadata": {},
   "outputs": [],
   "source": [
<<<<<<< Updated upstream
    "sns.heatmap(pivot[80:], cmap = 'YlGnBu')"
=======
    "sns.heatmap(pivot[80:], cmap = 'YlGnBu')\n",
    "show_and_save_plot('Grilla de modelos buscados y comprados - 4', xlabel='Motores', ylabel='Modelos')"
>>>>>>> Stashed changes
   ]
  },
  {
   "cell_type": "markdown",
   "metadata": {},
   "source": [
    "## Analisis de eventos por marcas"
   ]
  },
  {
   "cell_type": "code",
   "execution_count": null,
   "metadata": {},
   "outputs": [],
   "source": [
    "brand_conversion = raw_events[raw_events['event'] == 'conversion'][['brand','timestamp']]"
   ]
  },
  {
   "cell_type": "code",
   "execution_count": null,
   "metadata": {},
   "outputs": [],
   "source": [
    "brand_conversion['date'] = brand_conversion['timestamp'].map(lambda x: str(x.year) + \"-\" + str(x.month))"
   ]
  },
  {
   "cell_type": "code",
   "execution_count": null,
   "metadata": {},
   "outputs": [],
   "source": [
    "brand_conversion = brand_conversion.set_index('date')\n",
<<<<<<< Updated upstream
    "brand_conversion.groupby(level='date').brand.value_counts().unstack('brand').plot.bar(stacked=True, width = 1)"
=======
    "brand_conversion.groupby(level='date').brand.value_counts().unstack('brand').plot.bar(stacked=True, width = 1)\n",
    "show_and_save_plot('Distribucion ventas por mes y marca', xlabel='Fecha', ylabel='Cantidad')"
>>>>>>> Stashed changes
   ]
  },
  {
   "cell_type": "markdown",
   "metadata": {},
   "source": [
    "## Eventos de visited_site"
   ]
  },
  {
   "cell_type": "code",
   "execution_count": null,
   "metadata": {},
   "outputs": [],
   "source": [
    "raw_events.channel.value_counts().plot(kind='barh',logx=True)\n",
    "show_and_save_plot('Cantidad de tipos de canales', xlabel='Cantidad por canal',\n",
    "                    ylabel='Tipo de canal')"
   ]
  },
  {
   "cell_type": "code",
   "execution_count": null,
   "metadata": {},
   "outputs": [],
   "source": [
    "raw_events.device_type.value_counts().plot(kind='barh',logx=True)\n",
    "show_and_save_plot('Cantidad de tipos de dispositivos', xlabel='Cantidad por tipo de dispositivo', ylabel='Tipo de dispositivo')"
   ]
  },
  {
   "cell_type": "code",
   "execution_count": null,
   "metadata": {},
   "outputs": [],
   "source": [
    "# Vemos que las resoluciones de pantalla son en general bajas, lo que da la idea\n",
    "# de que la aplicación es usada por personas de bajo poder adquisitivo.\n",
    "raw_events.screen_resolution.value_counts()[0:15].plot(kind='barh',logx=True)\n",
    "show_and_save_plot('Cantidad por tipos de resoluciones', xlabel='Cantidad por tipo de resolución', \n",
    "                   ylabel='Tipo de resolución')"
   ]
  },
  {
   "cell_type": "markdown",
   "metadata": {},
   "source": [
    "# Exploracion de todos los eventos en conjunto"
   ]
  },
  {
   "cell_type": "code",
   "execution_count": null,
   "metadata": {},
   "outputs": [],
   "source": [
    "# Nos damos una idea de qué resoluciones de pantalla tienen los usuarios\n",
    "raw_events.screen_megapixels.hist(bins=[x*0.3 for x in range(10)])\n",
    "show_and_save_plot('Distribución de cantidad de pixeles de las pantallas', xlabel='Megapixeles',\n",
    "                   ylabel='Cantidad de usuarios')"
   ]
  },
  {
   "cell_type": "code",
   "execution_count": null,
   "metadata": {},
   "outputs": [],
   "source": [
    "raw_events.timestamp.hist()\n",
    "show_and_save_plot(\"distribución de eventos en el tiempo\", xlabel='Fecha',\n",
    "                   ylabel='Cantidad acumulada de eventos')"
   ]
  },
  {
   "cell_type": "code",
   "execution_count": null,
   "metadata": {},
   "outputs": [],
   "source": [
    "# Cuantos 'skus' distintos hay\n",
    "print( \"hay {} dispositivos y {} dispositivos distintos\".format(len(raw_events.skus.dropna().values), len(raw_events.skus.dropna().unique())))"
   ]
  },
  {
   "cell_type": "code",
   "execution_count": null,
   "metadata": {},
   "outputs": [],
   "source": [
    "# Hora del dia en la que se producen los eventos:\n",
    "raw_events.time.hist(bins=24)\n",
    "show_and_save_plot('Distribucion de eventos en las horas del dia', xlabel='Hora del dia',\n",
    "                   ylabel='Cantidad de eventos')"
   ]
  },
  {
   "cell_type": "markdown",
   "metadata": {},
   "source": [
    "## Relación entre eventos de un mismo usuario\n",
    "Primero voy a ver cuantos eventos hay por cada usuario ¿es usual que haya cientos por cada uno? ¿Solo un par?"
   ]
  },
  {
   "cell_type": "code",
   "execution_count": null,
   "metadata": {},
   "outputs": [],
   "source": [
    "raw_events.person.value_counts().hist(log=True, bins=[i*10 for i in range(100)])\n",
    "show_and_save_plot('cantidad de eventos por persona', xlabel='cantidad de usuarios',\n",
    "                   ylabel='Cantidad de eventos')"
   ]
  },
  {
   "cell_type": "code",
   "execution_count": null,
   "metadata": {},
   "outputs": [],
   "source": [
    "def get_persons_data(raw_events):\n",
    "    def first_event(events):\n",
    "        return events.values[0]\n",
    "    def last_event(events):\n",
    "        return events.values[-1]\n",
    "    persons = raw_events.groupby('person').agg({\n",
    "        'timestamp':['min','max','count'],\n",
    "        'event': event_grouper(event_values) + [first_event] + [last_event]\n",
    "    })\n",
    "    persons['time_spent'] = persons['timestamp','max'] - persons['timestamp','min']\n",
    "    persons.time_spent = persons.time_spent.map(lambda it: it.total_seconds()/3600)\n",
    "    return persons"
   ]
  },
  {
   "cell_type": "code",
   "execution_count": null,
   "metadata": {},
   "outputs": [],
   "source": [
    "persons = get_persons_data(raw_events)"
   ]
  },
  {
   "cell_type": "code",
   "execution_count": null,
   "metadata": {},
   "outputs": [],
   "source": [
    "# Si muestro los outliers usa mucho espacio para los mismos, arriba del boxplot\n",
    "persons.time_spent.plot(kind='box', showfliers=False)"
   ]
  },
  {
   "cell_type": "code",
   "execution_count": null,
   "metadata": {},
   "outputs": [],
   "source": [
    "raw_events[raw_events.person=='000a54b2'].event.values[-1]"
   ]
  },
  {
   "cell_type": "code",
   "execution_count": null,
   "metadata": {},
   "outputs": [],
   "source": [
    "# NO hay relacion evidente entre el tiempo que se pasa en la plataforma y la cantidad de eventos que tiene. Ni siquiera es lineal.\n",
    "persons = persons.my_flatten_cols()\n",
    "\n",
    "for i in map(lambda it: 'event_'+it, event_values):\n",
    "    persons.plot.scatter('time_spent', i)\n",
    "plt.show()"
   ]
  },
  {
   "cell_type": "code",
   "execution_count": null,
   "metadata": {},
   "outputs": [],
   "source": [
    "raw_events[raw_events.person == '000a54b2'].sort_values('timestamp')"
   ]
  },
  {
   "cell_type": "markdown",
   "metadata": {},
   "source": [
    "## Features de cada modelo"
   ]
  },
  {
   "cell_type": "code",
   "execution_count": null,
   "metadata": {},
   "outputs": [],
   "source": [
    "def get_models_data(raw_events):\n",
    "    event_functions = event_grouper([ 'viewed product', 'checkout', 'conversion', 'lead'])\n",
    "    models = raw_events\\\n",
    "        .groupby('model')\\\n",
    "        .agg({'timestamp':['count','min','max'],'event':event_functions})\n",
    "    models['cantidad_eventos'] = models['timestamp','count']\n",
    "    models = models.drop(labels=[('timestamp','count')],axis=1)\n",
    "    models = models[models.cantidad_eventos > 100]\n",
    "    for i in ['checkout', 'conversion','lead','viewed product']:\n",
    "        models['event',i] = models['event',i]/models['cantidad_eventos']\n",
    "    return models"
   ]
  },
  {
   "cell_type": "code",
   "execution_count": null,
   "metadata": {},
   "outputs": [],
   "source": [
    "models = get_models_data(raw_events).sort_values('cantidad_eventos', ascending=False)\n",
    "models.event.head(8).plot(kind='barh',logx=True, stacked=False)\n",
    "show_and_save_plot('Distribucion de eventos en los modelos mas populares', xlabel='Distribucion', ylabel='Modelo')"
   ]
  },
  {
   "cell_type": "markdown",
   "metadata": {},
   "source": [
    "Modelos de telefono mas vendidos en proporcion a los eventos totales\n",
    "\n",
    "Vale la pena aclarar que son modelos distintos a los mas populares"
   ]
  },
  {
   "cell_type": "code",
   "execution_count": null,
   "metadata": {},
   "outputs": [],
   "source": [
    "models = models.sort_values([('event','conversion')], ascending=False)\n",
    "models.event.head(8).plot(kind='barh',logx=True, stacked=False)\n",
    "plt.xlabel('Distribucion')\n",
    "plt.ylabel('Modelo')\n",
    "show_and_save_plot('Distribucion de eventos en los modelos con mejor conversion rate')"
   ]
  },
  {
   "cell_type": "code",
   "execution_count": null,
   "metadata": {},
   "outputs": [],
   "source": [
    "models = models.sort_values([('event','lead')], ascending=False)\n",
    "models.event.head(8).plot(kind='barh',logx=True, stacked=False)\n",
    "plt.xlabel('Distribución')\n",
    "plt.ylabel('Modelo')\n",
    "show_and_save_plot('Distribucion de eventos en los modelos mas reservados')"
   ]
  },
  {
   "cell_type": "markdown",
   "metadata": {},
   "source": [
    "## Evaluo cuales son los colores mas vendidos."
   ]
  },
  {
   "cell_type": "code",
   "execution_count": null,
   "metadata": {},
   "outputs": [],
   "source": [
    "colors_count = raw_events[raw_events.event == 'conversion'].color.dropna().value_counts()"
   ]
  },
  {
   "cell_type": "code",
   "execution_count": null,
   "metadata": {},
   "outputs": [],
   "source": [
    "colors_count.plot(kind = 'barh')\n",
    "show_and_save_plot('Colores de telefonos mas vendidos', xlabel='Cantidad', ylabel='Color')"
   ]
  },
  {
   "cell_type": "code",
   "execution_count": null,
   "metadata": {},
   "outputs": [],
   "source": []
  }
 ],
 "metadata": {
  "kernelspec": {
   "display_name": "Python 3",
   "language": "python",
   "name": "python3"
  },
  "language_info": {
   "codemirror_mode": {
    "name": "ipython",
    "version": 3
   },
   "file_extension": ".py",
   "mimetype": "text/x-python",
   "name": "python",
   "nbconvert_exporter": "python",
   "pygments_lexer": "ipython3",
   "version": "3.7.0"
  }
 },
 "nbformat": 4,
 "nbformat_minor": 2
}
